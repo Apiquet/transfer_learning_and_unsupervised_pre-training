{
 "cells": [
  {
   "cell_type": "code",
   "execution_count": 1,
   "metadata": {},
   "outputs": [],
   "source": [
    "import tensorflow as tf\n",
    "import numpy as np\n",
    "import sys\n",
    "from datetime import datetime\n",
    "from functools import partial\n",
    "from utils import *\n",
    "\n",
    "%matplotlib inline\n",
    "import matplotlib\n",
    "import matplotlib.pyplot as plt\n",
    "\n",
    "MODEL_PATH = \"models/autoencoder/\""
   ]
  },
  {
   "cell_type": "code",
   "execution_count": 12,
   "metadata": {},
   "outputs": [],
   "source": [
    "from tensorflow.keras.layers import Input, Dense, Conv2D, MaxPooling2D, UpSampling2D\n",
    "from tensorflow.keras.models import Model\n",
    "from tensorflow.keras import backend as K"
   ]
  },
  {
   "cell_type": "code",
   "execution_count": 3,
   "metadata": {},
   "outputs": [],
   "source": [
    "input_img = Input(shape=(28, 28, 1))                                    # 28 x 28 x 1\n",
    "\n",
    "x = Conv2D(8, (3, 3), activation='relu', padding='same')(input_img)    # 28 x 28 x 8\n",
    "x_M1 = MaxPooling2D((2, 2), padding='same')(x)                          # 14 x 14 x 8\n",
    "x_C2 = Conv2D(4, (3, 3), activation='relu', padding='same')(x_M1)       # 14 x 14 x 4\n",
    "encoded = MaxPooling2D((2, 2), padding='same')(x_C2)                    # 7 x 7 x 4 = (28 x 28 x 1) * 0.25 (and each feature map has the same replicated weights so it decreases again the complexity)\n",
    "\n",
    "x_C3 = Conv2D(4, (3, 3), activation='relu', padding='same')(encoded)    # 7 x 7 x 4\n",
    "x_U1 = UpSampling2D((2, 2))(x_C3)                                       # 14 x 14 x 4\n",
    "x_C4 = Conv2D(8, (3, 3), activation='relu', padding='same')(x_U1)      # 14 x 14 x 8\n",
    "x_U2 = UpSampling2D((2, 2))(x_C4)                                       # 28 x 28 x 8\n",
    "decoded = Conv2D(1, (3, 3), activation='sigmoid', padding='same')(x_U2) # 28 x 28 x 1\n",
    "\n",
    "autoencoder = Model(input_img, decoded)\n",
    "autoencoder.compile(optimizer='adadelta', loss='binary_crossentropy')"
   ]
  },
  {
   "cell_type": "code",
   "execution_count": 4,
   "metadata": {},
   "outputs": [
    {
     "data": {
      "text/plain": [
       "TensorShape([Dimension(None), Dimension(28), Dimension(28), Dimension(8)])"
      ]
     },
     "execution_count": 4,
     "metadata": {},
     "output_type": "execute_result"
    }
   ],
   "source": [
    "x.shape"
   ]
  },
  {
   "cell_type": "code",
   "execution_count": 5,
   "metadata": {},
   "outputs": [
    {
     "data": {
      "text/plain": [
       "TensorShape([Dimension(None), Dimension(14), Dimension(14), Dimension(8)])"
      ]
     },
     "execution_count": 5,
     "metadata": {},
     "output_type": "execute_result"
    }
   ],
   "source": [
    "x_M1.shape"
   ]
  },
  {
   "cell_type": "code",
   "execution_count": 6,
   "metadata": {},
   "outputs": [
    {
     "data": {
      "text/plain": [
       "TensorShape([Dimension(None), Dimension(14), Dimension(14), Dimension(4)])"
      ]
     },
     "execution_count": 6,
     "metadata": {},
     "output_type": "execute_result"
    }
   ],
   "source": [
    "x_C2.shape"
   ]
  },
  {
   "cell_type": "code",
   "execution_count": 7,
   "metadata": {},
   "outputs": [
    {
     "data": {
      "text/plain": [
       "TensorShape([Dimension(None), Dimension(7), Dimension(7), Dimension(4)])"
      ]
     },
     "execution_count": 7,
     "metadata": {},
     "output_type": "execute_result"
    }
   ],
   "source": [
    "encoded.shape"
   ]
  },
  {
   "cell_type": "code",
   "execution_count": 8,
   "metadata": {},
   "outputs": [
    {
     "data": {
      "text/plain": [
       "TensorShape([Dimension(None), Dimension(7), Dimension(7), Dimension(4)])"
      ]
     },
     "execution_count": 8,
     "metadata": {},
     "output_type": "execute_result"
    }
   ],
   "source": [
    "x_C3.shape"
   ]
  },
  {
   "cell_type": "code",
   "execution_count": 9,
   "metadata": {},
   "outputs": [
    {
     "data": {
      "text/plain": [
       "TensorShape([Dimension(None), Dimension(14), Dimension(14), Dimension(4)])"
      ]
     },
     "execution_count": 9,
     "metadata": {},
     "output_type": "execute_result"
    }
   ],
   "source": [
    "x_U1.shape"
   ]
  },
  {
   "cell_type": "code",
   "execution_count": 10,
   "metadata": {},
   "outputs": [
    {
     "data": {
      "text/plain": [
       "TensorShape([Dimension(None), Dimension(14), Dimension(14), Dimension(8)])"
      ]
     },
     "execution_count": 10,
     "metadata": {},
     "output_type": "execute_result"
    }
   ],
   "source": [
    "x_C4.shape"
   ]
  },
  {
   "cell_type": "code",
   "execution_count": 11,
   "metadata": {},
   "outputs": [
    {
     "data": {
      "text/plain": [
       "TensorShape([Dimension(None), Dimension(28), Dimension(28), Dimension(8)])"
      ]
     },
     "execution_count": 11,
     "metadata": {},
     "output_type": "execute_result"
    }
   ],
   "source": [
    "x_U2.shape"
   ]
  },
  {
   "cell_type": "code",
   "execution_count": 12,
   "metadata": {},
   "outputs": [
    {
     "data": {
      "text/plain": [
       "TensorShape([Dimension(None), Dimension(28), Dimension(28), Dimension(1)])"
      ]
     },
     "execution_count": 12,
     "metadata": {},
     "output_type": "execute_result"
    }
   ],
   "source": [
    "decoded.shape"
   ]
  },
  {
   "cell_type": "code",
   "execution_count": 17,
   "metadata": {},
   "outputs": [],
   "source": [
    "from tensorflow.keras.datasets import mnist\n",
    "import numpy as np\n",
    "\n",
    "(x_train, y_train), (x_test, y_test) = mnist.load_data()\n",
    "\n",
    "x_train = x_train.astype('float32') / 255.\n",
    "x_test = x_test.astype('float32') / 255.\n",
    "x_train = np.reshape(x_train, (len(x_train), 28, 28, 1))  # adapt this if using `channels_first` image data format\n",
    "x_test = np.reshape(x_test, (len(x_test), 28, 28, 1))  # adapt this if using `channels_first` image data format"
   ]
  },
  {
   "cell_type": "code",
   "execution_count": 4,
   "metadata": {},
   "outputs": [],
   "source": [
    "autoencoder = tf.keras.models.load_model(MODEL_PATH + 'autoencoder.h5')"
   ]
  },
  {
   "cell_type": "code",
   "execution_count": 5,
   "metadata": {},
   "outputs": [
    {
     "name": "stdout",
     "output_type": "stream",
     "text": [
      "Train on 60000 samples, validate on 10000 samples\n",
      "Epoch 1/100\n",
      "60000/60000 [==============================] - 52s 870us/sample - loss: 0.1290 - val_loss: 0.1278\n",
      "Epoch 2/100\n",
      "60000/60000 [==============================] - 62s 1ms/sample - loss: 0.1289 - val_loss: 0.1277\n",
      "Epoch 3/100\n",
      "60000/60000 [==============================] - 71s 1ms/sample - loss: 0.1288 - val_loss: 0.1277\n",
      "Epoch 4/100\n",
      "60000/60000 [==============================] - 71s 1ms/sample - loss: 0.1288 - val_loss: 0.1276\n",
      "Epoch 5/100\n",
      "60000/60000 [==============================] - 71s 1ms/sample - loss: 0.1287 - val_loss: 0.1275\n",
      "Epoch 6/100\n",
      "60000/60000 [==============================] - 71s 1ms/sample - loss: 0.1287 - val_loss: 0.1275\n",
      "Epoch 7/100\n",
      "60000/60000 [==============================] - 71s 1ms/sample - loss: 0.1286 - val_loss: 0.1274\n",
      "Epoch 8/100\n",
      "60000/60000 [==============================] - 71s 1ms/sample - loss: 0.1285 - val_loss: 0.1274\n",
      "Epoch 9/100\n",
      "60000/60000 [==============================] - 71s 1ms/sample - loss: 0.1285 - val_loss: 0.1273\n",
      "Epoch 10/100\n",
      "60000/60000 [==============================] - 74s 1ms/sample - loss: 0.1284 - val_loss: 0.1272\n",
      "Epoch 11/100\n",
      "60000/60000 [==============================] - 75s 1ms/sample - loss: 0.1284 - val_loss: 0.1272\n",
      "Epoch 12/100\n",
      "60000/60000 [==============================] - 76s 1ms/sample - loss: 0.1283 - val_loss: 0.1271\n",
      "Epoch 13/100\n",
      "60000/60000 [==============================] - 75s 1ms/sample - loss: 0.1282 - val_loss: 0.1270\n",
      "Epoch 14/100\n",
      "60000/60000 [==============================] - 72s 1ms/sample - loss: 0.1282 - val_loss: 0.1270\n",
      "Epoch 15/100\n",
      "60000/60000 [==============================] - 69s 1ms/sample - loss: 0.1281 - val_loss: 0.1269\n",
      "Epoch 16/100\n",
      "60000/60000 [==============================] - 70s 1ms/sample - loss: 0.1280 - val_loss: 0.1269\n",
      "Epoch 17/100\n",
      "60000/60000 [==============================] - 69s 1ms/sample - loss: 0.1280 - val_loss: 0.1268\n",
      "Epoch 18/100\n",
      "60000/60000 [==============================] - 70s 1ms/sample - loss: 0.1279 - val_loss: 0.1267\n",
      "Epoch 19/100\n",
      "60000/60000 [==============================] - 70s 1ms/sample - loss: 0.1278 - val_loss: 0.1267\n",
      "Epoch 20/100\n",
      "60000/60000 [==============================] - 70s 1ms/sample - loss: 0.1278 - val_loss: 0.1266\n",
      "Epoch 21/100\n",
      "60000/60000 [==============================] - 70s 1ms/sample - loss: 0.1277 - val_loss: 0.1265\n",
      "Epoch 22/100\n",
      "60000/60000 [==============================] - 70s 1ms/sample - loss: 0.1277 - val_loss: 0.1265\n",
      "Epoch 23/100\n",
      "60000/60000 [==============================] - 70s 1ms/sample - loss: 0.1276 - val_loss: 0.1264\n",
      "Epoch 24/100\n",
      "60000/60000 [==============================] - 71s 1ms/sample - loss: 0.1275 - val_loss: 0.1263\n",
      "Epoch 25/100\n",
      "60000/60000 [==============================] - 69s 1ms/sample - loss: 0.1275 - val_loss: 0.1263\n",
      "Epoch 26/100\n",
      "60000/60000 [==============================] - 68s 1ms/sample - loss: 0.1274 - val_loss: 0.1262\n",
      "Epoch 27/100\n",
      "60000/60000 [==============================] - 67s 1ms/sample - loss: 0.1273 - val_loss: 0.1261\n",
      "Epoch 28/100\n",
      "60000/60000 [==============================] - 68s 1ms/sample - loss: 0.1273 - val_loss: 0.1261\n",
      "Epoch 29/100\n",
      "60000/60000 [==============================] - 67s 1ms/sample - loss: 0.1272 - val_loss: 0.1260\n",
      "Epoch 30/100\n",
      "60000/60000 [==============================] - 67s 1ms/sample - loss: 0.1271 - val_loss: 0.1260\n",
      "Epoch 31/100\n",
      "60000/60000 [==============================] - 67s 1ms/sample - loss: 0.1271 - val_loss: 0.1259\n",
      "Epoch 32/100\n",
      "60000/60000 [==============================] - 67s 1ms/sample - loss: 0.1270 - val_loss: 0.1258\n",
      "Epoch 33/100\n",
      "60000/60000 [==============================] - 67s 1ms/sample - loss: 0.1269 - val_loss: 0.1258\n",
      "Epoch 34/100\n",
      "60000/60000 [==============================] - 66s 1ms/sample - loss: 0.1269 - val_loss: 0.1257\n",
      "Epoch 35/100\n",
      "60000/60000 [==============================] - 67s 1ms/sample - loss: 0.1268 - val_loss: 0.1256\n",
      "Epoch 36/100\n",
      "60000/60000 [==============================] - 66s 1ms/sample - loss: 0.1267 - val_loss: 0.1256\n",
      "Epoch 37/100\n",
      "60000/60000 [==============================] - 66s 1ms/sample - loss: 0.1267 - val_loss: 0.1255\n",
      "Epoch 38/100\n",
      "60000/60000 [==============================] - 67s 1ms/sample - loss: 0.1266 - val_loss: 0.1254\n",
      "Epoch 39/100\n",
      "60000/60000 [==============================] - 67s 1ms/sample - loss: 0.1265 - val_loss: 0.1254\n",
      "Epoch 40/100\n",
      "60000/60000 [==============================] - 66s 1ms/sample - loss: 0.1265 - val_loss: 0.1253\n",
      "Epoch 41/100\n",
      "60000/60000 [==============================] - 67s 1ms/sample - loss: 0.1264 - val_loss: 0.1252\n",
      "Epoch 42/100\n",
      "60000/60000 [==============================] - 68s 1ms/sample - loss: 0.1263 - val_loss: 0.1252\n",
      "Epoch 43/100\n",
      "60000/60000 [==============================] - 67s 1ms/sample - loss: 0.1263 - val_loss: 0.1251\n",
      "Epoch 44/100\n",
      "60000/60000 [==============================] - 67s 1ms/sample - loss: 0.1262 - val_loss: 0.1250\n",
      "Epoch 45/100\n",
      "60000/60000 [==============================] - 66s 1ms/sample - loss: 0.1262 - val_loss: 0.1250\n",
      "Epoch 46/100\n",
      "60000/60000 [==============================] - 62s 1ms/sample - loss: 0.1261 - val_loss: 0.1249\n",
      "Epoch 47/100\n",
      "60000/60000 [==============================] - 65s 1ms/sample - loss: 0.1260 - val_loss: 0.1249\n",
      "Epoch 48/100\n",
      "60000/60000 [==============================] - 65s 1ms/sample - loss: 0.1260 - val_loss: 0.1248\n",
      "Epoch 49/100\n",
      "60000/60000 [==============================] - 65s 1ms/sample - loss: 0.1259 - val_loss: 0.1247\n",
      "Epoch 50/100\n",
      "60000/60000 [==============================] - 65s 1ms/sample - loss: 0.1258 - val_loss: 0.1247\n",
      "Epoch 51/100\n",
      "60000/60000 [==============================] - 66s 1ms/sample - loss: 0.1258 - val_loss: 0.1246\n",
      "Epoch 52/100\n",
      "60000/60000 [==============================] - 65s 1ms/sample - loss: 0.1257 - val_loss: 0.1245\n",
      "Epoch 53/100\n",
      "60000/60000 [==============================] - 65s 1ms/sample - loss: 0.1256 - val_loss: 0.1245\n",
      "Epoch 54/100\n",
      "60000/60000 [==============================] - 65s 1ms/sample - loss: 0.1256 - val_loss: 0.1244\n",
      "Epoch 55/100\n",
      "60000/60000 [==============================] - 65s 1ms/sample - loss: 0.1255 - val_loss: 0.1243\n",
      "Epoch 56/100\n",
      "60000/60000 [==============================] - 65s 1ms/sample - loss: 0.1254 - val_loss: 0.1243\n",
      "Epoch 57/100\n",
      "60000/60000 [==============================] - 65s 1ms/sample - loss: 0.1254 - val_loss: 0.1242\n",
      "Epoch 58/100\n",
      "60000/60000 [==============================] - 65s 1ms/sample - loss: 0.1253 - val_loss: 0.1241\n",
      "Epoch 59/100\n",
      "60000/60000 [==============================] - 65s 1ms/sample - loss: 0.1252 - val_loss: 0.1241\n",
      "Epoch 60/100\n",
      "60000/60000 [==============================] - 65s 1ms/sample - loss: 0.1252 - val_loss: 0.1240\n",
      "Epoch 61/100\n",
      "60000/60000 [==============================] - 65s 1ms/sample - loss: 0.1251 - val_loss: 0.1239\n",
      "Epoch 62/100\n",
      "60000/60000 [==============================] - 65s 1ms/sample - loss: 0.1250 - val_loss: 0.1239\n",
      "Epoch 63/100\n",
      "60000/60000 [==============================] - 65s 1ms/sample - loss: 0.1250 - val_loss: 0.1238\n",
      "Epoch 64/100\n",
      "60000/60000 [==============================] - 65s 1ms/sample - loss: 0.1249 - val_loss: 0.1238\n",
      "Epoch 65/100\n",
      "60000/60000 [==============================] - 66s 1ms/sample - loss: 0.1249 - val_loss: 0.1237\n",
      "Epoch 66/100\n",
      "60000/60000 [==============================] - 65s 1ms/sample - loss: 0.1248 - val_loss: 0.1236\n",
      "Epoch 67/100\n",
      "60000/60000 [==============================] - 65s 1ms/sample - loss: 0.1247 - val_loss: 0.1236\n",
      "Epoch 68/100\n",
      "60000/60000 [==============================] - 61s 1ms/sample - loss: 0.1247 - val_loss: 0.1235\n",
      "Epoch 69/100\n",
      "60000/60000 [==============================] - 63s 1ms/sample - loss: 0.1246 - val_loss: 0.1234\n",
      "Epoch 70/100\n",
      "60000/60000 [==============================] - 64s 1ms/sample - loss: 0.1245 - val_loss: 0.1234\n",
      "Epoch 71/100\n",
      "60000/60000 [==============================] - 63s 1ms/sample - loss: 0.1245 - val_loss: 0.1233\n",
      "Epoch 72/100\n",
      "60000/60000 [==============================] - 64s 1ms/sample - loss: 0.1244 - val_loss: 0.1232\n",
      "Epoch 73/100\n",
      "60000/60000 [==============================] - 64s 1ms/sample - loss: 0.1243 - val_loss: 0.1232\n",
      "Epoch 74/100\n",
      "60000/60000 [==============================] - 64s 1ms/sample - loss: 0.1243 - val_loss: 0.1231\n",
      "Epoch 75/100\n",
      "60000/60000 [==============================] - 64s 1ms/sample - loss: 0.1242 - val_loss: 0.1231\n",
      "Epoch 76/100\n",
      "60000/60000 [==============================] - 64s 1ms/sample - loss: 0.1242 - val_loss: 0.1230\n",
      "Epoch 77/100\n",
      "60000/60000 [==============================] - 63s 1ms/sample - loss: 0.1241 - val_loss: 0.1229\n",
      "Epoch 78/100\n",
      "60000/60000 [==============================] - 64s 1ms/sample - loss: 0.1240 - val_loss: 0.1229\n",
      "Epoch 79/100\n",
      "60000/60000 [==============================] - 65s 1ms/sample - loss: 0.1240 - val_loss: 0.1228\n",
      "Epoch 80/100\n",
      "60000/60000 [==============================] - 63s 1ms/sample - loss: 0.1239 - val_loss: 0.1228\n",
      "Epoch 81/100\n",
      "60000/60000 [==============================] - 64s 1ms/sample - loss: 0.1238 - val_loss: 0.1227\n",
      "Epoch 82/100\n",
      "60000/60000 [==============================] - 65s 1ms/sample - loss: 0.1238 - val_loss: 0.1226\n",
      "Epoch 83/100\n",
      "60000/60000 [==============================] - 60s 994us/sample - loss: 0.1237 - val_loss: 0.1226\n",
      "Epoch 84/100\n",
      "60000/60000 [==============================] - 64s 1ms/sample - loss: 0.1237 - val_loss: 0.1225\n",
      "Epoch 85/100\n",
      "60000/60000 [==============================] - 63s 1ms/sample - loss: 0.1236 - val_loss: 0.1224\n",
      "Epoch 86/100\n",
      "60000/60000 [==============================] - 63s 1ms/sample - loss: 0.1235 - val_loss: 0.1224\n",
      "Epoch 87/100\n",
      "60000/60000 [==============================] - 63s 1ms/sample - loss: 0.1235 - val_loss: 0.1223\n",
      "Epoch 88/100\n",
      "60000/60000 [==============================] - 63s 1ms/sample - loss: 0.1234 - val_loss: 0.1223\n",
      "Epoch 89/100\n",
      "60000/60000 [==============================] - 63s 1ms/sample - loss: 0.1233 - val_loss: 0.1222\n",
      "Epoch 90/100\n",
      "60000/60000 [==============================] - 63s 1ms/sample - loss: 0.1233 - val_loss: 0.1221\n",
      "Epoch 91/100\n",
      "60000/60000 [==============================] - 63s 1ms/sample - loss: 0.1232 - val_loss: 0.1221\n",
      "Epoch 92/100\n",
      "60000/60000 [==============================] - 62s 1ms/sample - loss: 0.1232 - val_loss: 0.1220\n",
      "Epoch 93/100\n",
      "60000/60000 [==============================] - 61s 1ms/sample - loss: 0.1231 - val_loss: 0.1220\n",
      "Epoch 94/100\n",
      "60000/60000 [==============================] - 62s 1ms/sample - loss: 0.1230 - val_loss: 0.1219\n",
      "Epoch 95/100\n",
      "60000/60000 [==============================] - 61s 1ms/sample - loss: 0.1230 - val_loss: 0.1218\n",
      "Epoch 96/100\n",
      "60000/60000 [==============================] - 61s 1ms/sample - loss: 0.1229 - val_loss: 0.1218\n",
      "Epoch 97/100\n",
      "60000/60000 [==============================] - 61s 1ms/sample - loss: 0.1229 - val_loss: 0.1217\n",
      "Epoch 98/100\n",
      "60000/60000 [==============================] - 62s 1ms/sample - loss: 0.1228 - val_loss: 0.1217\n",
      "Epoch 99/100\n",
      "60000/60000 [==============================] - 61s 1ms/sample - loss: 0.1227 - val_loss: 0.1216\n",
      "Epoch 100/100\n",
      "60000/60000 [==============================] - 61s 1ms/sample - loss: 0.1227 - val_loss: 0.1215\n"
     ]
    },
    {
     "data": {
      "text/plain": [
       "<tensorflow.python.keras.callbacks.History at 0x29a139e93c8>"
      ]
     },
     "execution_count": 5,
     "metadata": {},
     "output_type": "execute_result"
    }
   ],
   "source": [
    "from tensorflow.keras.callbacks import TensorBoard\n",
    "\n",
    "autoencoder.fit(x_train, x_train,\n",
    "                epochs=100,\n",
    "                batch_size=100,\n",
    "                shuffle=True,\n",
    "                validation_data=(x_test, x_test))"
   ]
  },
  {
   "cell_type": "code",
   "execution_count": 6,
   "metadata": {},
   "outputs": [],
   "source": [
    "# saving model\n",
    "autoencoder.save(MODEL_PATH + 'autoencoder.h5')"
   ]
  },
  {
   "cell_type": "code",
   "execution_count": 7,
   "metadata": {},
   "outputs": [
    {
     "data": {
      "image/png": "[encoded data removed]",
      "text/plain": [
       "<Figure size 1440x288 with 18 Axes>"
      ]
     },
     "metadata": {
      "needs_background": "light"
     },
     "output_type": "display_data"
    }
   ],
   "source": [
    "decoded_imgs = autoencoder.predict(x_test[:10])\n",
    "\n",
    "n = 10\n",
    "plt.figure(figsize=(20, 4))\n",
    "for i in range(1,n):\n",
    "    # display original\n",
    "    ax = plt.subplot(2, n, i)\n",
    "    plt.imshow(x_test[i].reshape(28, 28))\n",
    "    plt.gray()\n",
    "    ax.get_xaxis().set_visible(False)\n",
    "    ax.get_yaxis().set_visible(False)\n",
    "\n",
    "    # display reconstruction\n",
    "    ax = plt.subplot(2, n, i + n)\n",
    "    plt.imshow(decoded_imgs[i].reshape(28, 28))\n",
    "    plt.gray()\n",
    "    ax.get_xaxis().set_visible(False)\n",
    "    ax.get_yaxis().set_visible(False)\n",
    "plt.show()"
   ]
  },
  {
   "cell_type": "code",
   "execution_count": null,
   "metadata": {},
   "outputs": [],
   "source": []
  },
  {
   "cell_type": "markdown",
   "metadata": {},
   "source": [
    "### Restore model used for unsupervised pre-training"
   ]
  },
  {
   "cell_type": "code",
   "execution_count": 8,
   "metadata": {},
   "outputs": [
    {
     "name": "stdout",
     "output_type": "stream",
     "text": [
      "Model: \"model_1\"\n",
      "_________________________________________________________________\n",
      "Layer (type)                 Output Shape              Param #   \n",
      "=================================================================\n",
      "input_2 (InputLayer)         [(None, 28, 28, 1)]       0         \n",
      "_________________________________________________________________\n",
      "conv2d_5 (Conv2D)            (None, 28, 28, 8)         80        \n",
      "_________________________________________________________________\n",
      "max_pooling2d_2 (MaxPooling2 (None, 14, 14, 8)         0         \n",
      "_________________________________________________________________\n",
      "conv2d_6 (Conv2D)            (None, 14, 14, 4)         292       \n",
      "_________________________________________________________________\n",
      "max_pooling2d_3 (MaxPooling2 (None, 7, 7, 4)           0         \n",
      "_________________________________________________________________\n",
      "conv2d_7 (Conv2D)            (None, 7, 7, 4)           148       \n",
      "_________________________________________________________________\n",
      "up_sampling2d_2 (UpSampling2 (None, 14, 14, 4)         0         \n",
      "_________________________________________________________________\n",
      "conv2d_8 (Conv2D)            (None, 14, 14, 8)         296       \n",
      "_________________________________________________________________\n",
      "up_sampling2d_3 (UpSampling2 (None, 28, 28, 8)         0         \n",
      "_________________________________________________________________\n",
      "conv2d_9 (Conv2D)            (None, 28, 28, 1)         73        \n",
      "=================================================================\n",
      "Total params: 889\n",
      "Trainable params: 889\n",
      "Non-trainable params: 0\n",
      "_________________________________________________________________\n"
     ]
    }
   ],
   "source": [
    "pretrained_autoencoder = tf.keras.models.load_model(MODEL_PATH + 'autoencoder.h5')\n",
    "pretrained_autoencoder.summary()"
   ]
  },
  {
   "cell_type": "markdown",
   "metadata": {},
   "source": [
    "### adding layers at the end of the pretrained model"
   ]
  },
  {
   "cell_type": "code",
   "execution_count": 9,
   "metadata": {},
   "outputs": [],
   "source": [
    "from tensorflow.keras.models import Model\n",
    "from tensorflow.keras.layers import Dense\n",
    "from tensorflow.keras.layers import Flatten"
   ]
  },
  {
   "cell_type": "code",
   "execution_count": 13,
   "metadata": {},
   "outputs": [],
   "source": [
    "#removing decoder (last 4 layers)\n",
    "x = pretrained_autoencoder.layers[-5].output\n",
    "# Adding layers\n",
    "x = Conv2D(32, (3, 3), activation='relu', padding='same')(x)\n",
    "x = Conv2D(64, (3, 3), strides=2, activation='relu', padding='same')(x)\n",
    "x = Conv2D(128, (3, 3), strides=2, activation='relu', padding='same')(x)\n",
    "x = Flatten()(x)\n",
    "x = Dense(128, activation='relu')(x)\n",
    "# Adding a fully connected layer for the 10 classes 0 to 9\n",
    "predictions = Dense(10, activation='softmax')(x)"
   ]
  },
  {
   "cell_type": "code",
   "execution_count": 14,
   "metadata": {},
   "outputs": [
    {
     "name": "stdout",
     "output_type": "stream",
     "text": [
      "Model: \"model\"\n",
      "_________________________________________________________________\n",
      "Layer (type)                 Output Shape              Param #   \n",
      "=================================================================\n",
      "input_2 (InputLayer)         [(None, 28, 28, 1)]       0         \n",
      "_________________________________________________________________\n",
      "conv2d_5 (Conv2D)            (None, 28, 28, 8)         80        \n",
      "_________________________________________________________________\n",
      "max_pooling2d_2 (MaxPooling2 (None, 14, 14, 8)         0         \n",
      "_________________________________________________________________\n",
      "conv2d_6 (Conv2D)            (None, 14, 14, 4)         292       \n",
      "_________________________________________________________________\n",
      "max_pooling2d_3 (MaxPooling2 (None, 7, 7, 4)           0         \n",
      "_________________________________________________________________\n",
      "conv2d_7 (Conv2D)            (None, 7, 7, 4)           148       \n",
      "_________________________________________________________________\n",
      "conv2d (Conv2D)              (None, 7, 7, 32)          1184      \n",
      "_________________________________________________________________\n",
      "conv2d_1 (Conv2D)            (None, 4, 4, 64)          18496     \n",
      "_________________________________________________________________\n",
      "conv2d_2 (Conv2D)            (None, 2, 2, 128)         73856     \n",
      "_________________________________________________________________\n",
      "flatten (Flatten)            (None, 512)               0         \n",
      "_________________________________________________________________\n",
      "dense (Dense)                (None, 128)               65664     \n",
      "_________________________________________________________________\n",
      "dense_1 (Dense)              (None, 10)                1290      \n",
      "=================================================================\n",
      "Total params: 161,010\n",
      "Trainable params: 161,010\n",
      "Non-trainable params: 0\n",
      "_________________________________________________________________\n"
     ]
    }
   ],
   "source": [
    "model = Model(inputs=pretrained_autoencoder.input, outputs=predictions)\n",
    "model.summary()"
   ]
  },
  {
   "cell_type": "markdown",
   "metadata": {},
   "source": [
    "### freezing model"
   ]
  },
  {
   "cell_type": "code",
   "execution_count": 15,
   "metadata": {},
   "outputs": [],
   "source": [
    "# freeze all layers of the pre-trained model\n",
    "# we will only update the weights for the added layers\n",
    "for layer in pretrained_autoencoder.layers:\n",
    "    layer.trainable = False\n",
    "\n",
    "# compile the model with adam optimizer and sparse_categorical_crossentropy loss function\n",
    "model.compile(optimizer='adam', loss='sparse_categorical_crossentropy', metrics=['sparse_categorical_accuracy'])"
   ]
  },
  {
   "cell_type": "markdown",
   "metadata": {},
   "source": [
    "### Training without data augmentation"
   ]
  },
  {
   "cell_type": "code",
   "execution_count": 18,
   "metadata": {},
   "outputs": [],
   "source": [
    "samples_for_training = 500\n",
    "X_train, y_train = x_train[:samples_for_training], y_train[:samples_for_training]"
   ]
  },
  {
   "cell_type": "code",
   "execution_count": 27,
   "metadata": {},
   "outputs": [
    {
     "name": "stdout",
     "output_type": "stream",
     "text": [
      "Epoch 1/10\n",
      "1000/1000 [==============================] - 0s 241us/sample - loss: 0.0076 - sparse_categorical_accuracy: 0.9990\n",
      "Epoch 2/10\n",
      "1000/1000 [==============================] - 0s 244us/sample - loss: 0.0066 - sparse_categorical_accuracy: 1.0000\n",
      "Epoch 3/10\n",
      "1000/1000 [==============================] - 0s 238us/sample - loss: 0.0055 - sparse_categorical_accuracy: 1.0000\n",
      "Epoch 4/10\n",
      "1000/1000 [==============================] - 0s 214us/sample - loss: 0.0061 - sparse_categorical_accuracy: 1.0000\n",
      "Epoch 5/10\n",
      "1000/1000 [==============================] - 0s 216us/sample - loss: 0.0054 - sparse_categorical_accuracy: 0.9990\n",
      "Epoch 6/10\n",
      "1000/1000 [==============================] - 0s 211us/sample - loss: 0.0071 - sparse_categorical_accuracy: 0.9990\n",
      "Epoch 7/10\n",
      "1000/1000 [==============================] - 0s 231us/sample - loss: 0.0053 - sparse_categorical_accuracy: 1.0000\n",
      "Epoch 8/10\n",
      "1000/1000 [==============================] - 0s 214us/sample - loss: 0.0043 - sparse_categorical_accuracy: 1.0000\n",
      "Epoch 9/10\n",
      "1000/1000 [==============================] - 0s 211us/sample - loss: 0.0037 - sparse_categorical_accuracy: 1.0000\n",
      "Epoch 10/10\n",
      "1000/1000 [==============================] - 0s 213us/sample - loss: 0.0029 - sparse_categorical_accuracy: 1.0000\n"
     ]
    }
   ],
   "source": [
    "history = model.fit(X_train, y_train, batch_size=100, epochs=10, verbose=1)"
   ]
  },
  {
   "cell_type": "code",
   "execution_count": 28,
   "metadata": {},
   "outputs": [
    {
     "name": "stdout",
     "output_type": "stream",
     "text": [
      "10000/10000 [==============================] - 2s 192us/sample - loss: 0.4192 - sparse_categorical_accuracy: 0.9019\n"
     ]
    }
   ],
   "source": [
    "score = model.evaluate(x_test,y_test, verbose=1)"
   ]
  },
  {
   "cell_type": "markdown",
   "metadata": {},
   "source": [
    "## Neural net without pre-trained model"
   ]
  },
  {
   "cell_type": "code",
   "execution_count": 38,
   "metadata": {},
   "outputs": [],
   "source": [
    "#removing decoder (last 4 layers)\n",
    "input_images = Input(shape=(28, 28, 1)) \n",
    "# Adding layers\n",
    "x = Conv2D(32, (3, 3), activation='relu', padding='same')(input_images)\n",
    "x = Conv2D(64, (3, 3), strides=2, activation='relu', padding='same')(x)\n",
    "x = Conv2D(128, (3, 3), strides=2, activation='relu', padding='same')(x)\n",
    "x = Flatten()(x)\n",
    "x = Dense(128, activation='relu')(x)\n",
    "# Adding a fully connected layer for the 10 classes 0 to 9\n",
    "model_without_pretrained = Dense(10, activation='softmax')(x)"
   ]
  },
  {
   "cell_type": "code",
   "execution_count": 39,
   "metadata": {},
   "outputs": [
    {
     "name": "stdout",
     "output_type": "stream",
     "text": [
      "Model: \"model_5\"\n",
      "_________________________________________________________________\n",
      "Layer (type)                 Output Shape              Param #   \n",
      "=================================================================\n",
      "input_5 (InputLayer)         [(None, 28, 28, 1)]       0         \n",
      "_________________________________________________________________\n",
      "conv2d_13 (Conv2D)           (None, 28, 28, 32)        320       \n",
      "_________________________________________________________________\n",
      "conv2d_14 (Conv2D)           (None, 14, 14, 64)        18496     \n",
      "_________________________________________________________________\n",
      "conv2d_15 (Conv2D)           (None, 7, 7, 128)         73856     \n",
      "_________________________________________________________________\n",
      "flatten_4 (Flatten)          (None, 6272)              0         \n",
      "_________________________________________________________________\n",
      "dense_8 (Dense)              (None, 128)               802944    \n",
      "_________________________________________________________________\n",
      "dense_9 (Dense)              (None, 10)                1290      \n",
      "=================================================================\n",
      "Total params: 896,906\n",
      "Trainable params: 896,906\n",
      "Non-trainable params: 0\n",
      "_________________________________________________________________\n"
     ]
    }
   ],
   "source": [
    "model_basic = Model(inputs=input_images, outputs=model_without_pretrained)\n",
    "model_basic.summary()"
   ]
  },
  {
   "cell_type": "code",
   "execution_count": 42,
   "metadata": {},
   "outputs": [],
   "source": [
    "# compile the model with adam optimizer and sparse_categorical_crossentropy loss function\n",
    "model_basic.compile(optimizer='adam', loss='sparse_categorical_crossentropy', metrics=['sparse_categorical_accuracy'])"
   ]
  },
  {
   "cell_type": "code",
   "execution_count": 44,
   "metadata": {},
   "outputs": [
    {
     "name": "stdout",
     "output_type": "stream",
     "text": [
      "Epoch 1/10\n",
      "1000/1000 [==============================] - 1s 992us/sample - loss: 0.0113 - sparse_categorical_accuracy: 0.9980\n",
      "Epoch 2/10\n",
      "1000/1000 [==============================] - 1s 1ms/sample - loss: 0.0048 - sparse_categorical_accuracy: 1.0000\n",
      "Epoch 3/10\n",
      "1000/1000 [==============================] - 1s 1ms/sample - loss: 0.0021 - sparse_categorical_accuracy: 1.0000\n",
      "Epoch 4/10\n",
      "1000/1000 [==============================] - 1s 1ms/sample - loss: 0.0012 - sparse_categorical_accuracy: 1.0000\n",
      "Epoch 5/10\n",
      "1000/1000 [==============================] - 1s 1ms/sample - loss: 7.2854e-04 - sparse_categorical_accuracy: 1.0000\n",
      "Epoch 6/10\n",
      "1000/1000 [==============================] - 1s 1ms/sample - loss: 5.8663e-04 - sparse_categorical_accuracy: 1.0000\n",
      "Epoch 7/10\n",
      "1000/1000 [==============================] - 1s 1ms/sample - loss: 4.5476e-04 - sparse_categorical_accuracy: 1.0000\n",
      "Epoch 8/10\n",
      "1000/1000 [==============================] - 1s 1ms/sample - loss: 3.7774e-04 - sparse_categorical_accuracy: 1.0000\n",
      "Epoch 9/10\n",
      "1000/1000 [==============================] - 1s 1ms/sample - loss: 3.2419e-04 - sparse_categorical_accuracy: 1.0000\n",
      "Epoch 10/10\n",
      "1000/1000 [==============================] - 1s 1ms/sample - loss: 2.8823e-04 - sparse_categorical_accuracy: 1.0000\n"
     ]
    }
   ],
   "source": [
    "history = model_basic.fit(X_train, y_train, batch_size=100, epochs=10, verbose=1)"
   ]
  },
  {
   "cell_type": "code",
   "execution_count": null,
   "metadata": {},
   "outputs": [],
   "source": [
    "score = model_basic.evaluate(x_test,y_test, verbose=1)"
   ]
  }
 ],
 "metadata": {
  "kernelspec": {
   "display_name": "Python 3",
   "language": "python",
   "name": "python3"
  },
  "language_info": {
   "codemirror_mode": {
    "name": "ipython",
    "version": 3
   },
   "file_extension": ".py",
   "mimetype": "text/x-python",
   "name": "python",
   "nbconvert_exporter": "python",
   "pygments_lexer": "ipython3",
   "version": "3.7.3"
  }
 },
 "nbformat": 4,
 "nbformat_minor": 2
}
