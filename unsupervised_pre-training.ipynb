{
 "cells": [
  {
   "cell_type": "code",
   "execution_count": 1,
   "metadata": {},
   "outputs": [],
   "source": [
    "import tensorflow as tf\n",
    "import numpy as np\n",
    "import sys\n",
    "from datetime import datetime\n",
    "from functools import partial\n",
    "from utils import *\n",
    "\n",
    "%matplotlib inline\n",
    "import matplotlib\n",
    "import matplotlib.pyplot as plt\n",
    "\n",
    "MODEL_PATH = \"models/autoencoder/\""
   ]
  },
  {
   "cell_type": "code",
   "execution_count": 3,
   "metadata": {},
   "outputs": [],
   "source": [
    "from tensorflow.keras.layers import Input, Dense, Conv2D, MaxPooling2D, UpSampling2D\n",
    "from tensorflow.keras.models import Model\n",
    "from tensorflow.keras import backend as K\n",
    "\n",
    "input_img = Input(shape=(28, 28, 1))                                    # 28 x 28 x 1\n",
    "\n",
    "x = Conv2D(8, (3, 3), activation='relu', padding='same')(input_img)    # 28 x 28 x 8\n",
    "x_M1 = MaxPooling2D((2, 2), padding='same')(x)                          # 14 x 14 x 8\n",
    "x_C2 = Conv2D(4, (3, 3), activation='relu', padding='same')(x_M1)       # 14 x 14 x 4\n",
    "encoded = MaxPooling2D((2, 2), padding='same')(x_C2)                    # 7 x 7 x 4 = (28 x 28 x 1) * 0.25 (and each feature map has the same replicated weights so it decreases again the complexity)\n",
    "\n",
    "x_C3 = Conv2D(4, (3, 3), activation='relu', padding='same')(encoded)    # 7 x 7 x 4\n",
    "x_U1 = UpSampling2D((2, 2))(x_C3)                                       # 14 x 14 x 4\n",
    "x_C4 = Conv2D(8, (3, 3), activation='relu', padding='same')(x_U1)      # 14 x 14 x 8\n",
    "x_U2 = UpSampling2D((2, 2))(x_C4)                                       # 28 x 28 x 8\n",
    "decoded = Conv2D(1, (3, 3), activation='sigmoid', padding='same')(x_U2) # 28 x 28 x 1\n",
    "\n",
    "autoencoder = Model(input_img, decoded)\n",
    "autoencoder.compile(optimizer='adadelta', loss='binary_crossentropy')"
   ]
  },
  {
   "cell_type": "code",
   "execution_count": 4,
   "metadata": {},
   "outputs": [
    {
     "data": {
      "text/plain": [
       "TensorShape([Dimension(None), Dimension(28), Dimension(28), Dimension(8)])"
      ]
     },
     "execution_count": 4,
     "metadata": {},
     "output_type": "execute_result"
    }
   ],
   "source": [
    "x.shape"
   ]
  },
  {
   "cell_type": "code",
   "execution_count": 5,
   "metadata": {},
   "outputs": [
    {
     "data": {
      "text/plain": [
       "TensorShape([Dimension(None), Dimension(14), Dimension(14), Dimension(8)])"
      ]
     },
     "execution_count": 5,
     "metadata": {},
     "output_type": "execute_result"
    }
   ],
   "source": [
    "x_M1.shape"
   ]
  },
  {
   "cell_type": "code",
   "execution_count": 6,
   "metadata": {},
   "outputs": [
    {
     "data": {
      "text/plain": [
       "TensorShape([Dimension(None), Dimension(14), Dimension(14), Dimension(4)])"
      ]
     },
     "execution_count": 6,
     "metadata": {},
     "output_type": "execute_result"
    }
   ],
   "source": [
    "x_C2.shape"
   ]
  },
  {
   "cell_type": "code",
   "execution_count": 7,
   "metadata": {},
   "outputs": [
    {
     "data": {
      "text/plain": [
       "TensorShape([Dimension(None), Dimension(7), Dimension(7), Dimension(4)])"
      ]
     },
     "execution_count": 7,
     "metadata": {},
     "output_type": "execute_result"
    }
   ],
   "source": [
    "encoded.shape"
   ]
  },
  {
   "cell_type": "code",
   "execution_count": 8,
   "metadata": {},
   "outputs": [
    {
     "data": {
      "text/plain": [
       "TensorShape([Dimension(None), Dimension(7), Dimension(7), Dimension(4)])"
      ]
     },
     "execution_count": 8,
     "metadata": {},
     "output_type": "execute_result"
    }
   ],
   "source": [
    "x_C3.shape"
   ]
  },
  {
   "cell_type": "code",
   "execution_count": 9,
   "metadata": {},
   "outputs": [
    {
     "data": {
      "text/plain": [
       "TensorShape([Dimension(None), Dimension(14), Dimension(14), Dimension(4)])"
      ]
     },
     "execution_count": 9,
     "metadata": {},
     "output_type": "execute_result"
    }
   ],
   "source": [
    "x_U1.shape"
   ]
  },
  {
   "cell_type": "code",
   "execution_count": 10,
   "metadata": {},
   "outputs": [
    {
     "data": {
      "text/plain": [
       "TensorShape([Dimension(None), Dimension(14), Dimension(14), Dimension(8)])"
      ]
     },
     "execution_count": 10,
     "metadata": {},
     "output_type": "execute_result"
    }
   ],
   "source": [
    "x_C4.shape"
   ]
  },
  {
   "cell_type": "code",
   "execution_count": 11,
   "metadata": {},
   "outputs": [
    {
     "data": {
      "text/plain": [
       "TensorShape([Dimension(None), Dimension(28), Dimension(28), Dimension(8)])"
      ]
     },
     "execution_count": 11,
     "metadata": {},
     "output_type": "execute_result"
    }
   ],
   "source": [
    "x_U2.shape"
   ]
  },
  {
   "cell_type": "code",
   "execution_count": 12,
   "metadata": {},
   "outputs": [
    {
     "data": {
      "text/plain": [
       "TensorShape([Dimension(None), Dimension(28), Dimension(28), Dimension(1)])"
      ]
     },
     "execution_count": 12,
     "metadata": {},
     "output_type": "execute_result"
    }
   ],
   "source": [
    "decoded.shape"
   ]
  },
  {
   "cell_type": "code",
   "execution_count": 13,
   "metadata": {},
   "outputs": [],
   "source": [
    "from tensorflow.keras.datasets import mnist\n",
    "import numpy as np\n",
    "\n",
    "(x_train, _), (x_test, _) = mnist.load_data()\n",
    "\n",
    "x_train = x_train.astype('float32') / 255.\n",
    "x_test = x_test.astype('float32') / 255.\n",
    "x_train = np.reshape(x_train, (len(x_train), 28, 28, 1))  # adapt this if using `channels_first` image data format\n",
    "x_test = np.reshape(x_test, (len(x_test), 28, 28, 1))  # adapt this if using `channels_first` image data format"
   ]
  },
  {
   "cell_type": "code",
   "execution_count": 17,
   "metadata": {},
   "outputs": [
    {
     "name": "stdout",
     "output_type": "stream",
     "text": [
      "Train on 60000 samples, validate on 10000 samples\n",
      "Epoch 1/100\n",
      "60000/60000 [==============================] - 103s 2ms/sample - loss: 0.1358 - val_loss: 0.1347\n",
      "Epoch 2/100\n",
      "60000/60000 [==============================] - 98s 2ms/sample - loss: 0.1357 - val_loss: 0.1346\n",
      "Epoch 3/100\n",
      "60000/60000 [==============================] - 97s 2ms/sample - loss: 0.1356 - val_loss: 0.1345\n",
      "Epoch 4/100\n",
      "60000/60000 [==============================] - 99s 2ms/sample - loss: 0.1355 - val_loss: 0.1344\n",
      "Epoch 5/100\n",
      "60000/60000 [==============================] - 93s 2ms/sample - loss: 0.1354 - val_loss: 0.1344\n",
      "Epoch 6/100\n",
      "60000/60000 [==============================] - 83s 1ms/sample - loss: 0.1353 - val_loss: 0.1343\n",
      "Epoch 7/100\n",
      "60000/60000 [==============================] - 89s 1ms/sample - loss: 0.1353 - val_loss: 0.1342\n",
      "Epoch 8/100\n",
      "60000/60000 [==============================] - 83s 1ms/sample - loss: 0.1352 - val_loss: 0.1341\n",
      "Epoch 9/100\n",
      "60000/60000 [==============================] - 84s 1ms/sample - loss: 0.1351 - val_loss: 0.1340\n",
      "Epoch 10/100\n",
      "60000/60000 [==============================] - 90s 2ms/sample - loss: 0.1350 - val_loss: 0.1339\n",
      "Epoch 11/100\n",
      "60000/60000 [==============================] - 92s 2ms/sample - loss: 0.1349 - val_loss: 0.1339\n",
      "Epoch 12/100\n",
      "60000/60000 [==============================] - 91s 2ms/sample - loss: 0.1349 - val_loss: 0.1338\n",
      "Epoch 13/100\n",
      "60000/60000 [==============================] - 93s 2ms/sample - loss: 0.1348 - val_loss: 0.1337\n",
      "Epoch 14/100\n",
      "60000/60000 [==============================] - 91s 2ms/sample - loss: 0.1347 - val_loss: 0.1336\n",
      "Epoch 15/100\n",
      "60000/60000 [==============================] - 92s 2ms/sample - loss: 0.1346 - val_loss: 0.1335\n",
      "Epoch 16/100\n",
      "60000/60000 [==============================] - 94s 2ms/sample - loss: 0.1346 - val_loss: 0.1335\n",
      "Epoch 17/100\n",
      "60000/60000 [==============================] - 93s 2ms/sample - loss: 0.1345 - val_loss: 0.1334\n",
      "Epoch 18/100\n",
      "60000/60000 [==============================] - 87s 1ms/sample - loss: 0.1344 - val_loss: 0.1333\n",
      "Epoch 19/100\n",
      "60000/60000 [==============================] - 69s 1ms/sample - loss: 0.1343 - val_loss: 0.1332\n",
      "Epoch 20/100\n",
      "60000/60000 [==============================] - 89s 1ms/sample - loss: 0.1343 - val_loss: 0.1332\n",
      "Epoch 21/100\n",
      "60000/60000 [==============================] - 94s 2ms/sample - loss: 0.1342 - val_loss: 0.1331\n",
      "Epoch 22/100\n",
      "60000/60000 [==============================] - 88s 1ms/sample - loss: 0.1341 - val_loss: 0.1330\n",
      "Epoch 23/100\n",
      "60000/60000 [==============================] - 108s 2ms/sample - loss: 0.1340 - val_loss: 0.1329\n",
      "Epoch 24/100\n",
      "60000/60000 [==============================] - 103s 2ms/sample - loss: 0.1340 - val_loss: 0.1329\n",
      "Epoch 25/100\n",
      "60000/60000 [==============================] - 103s 2ms/sample - loss: 0.1339 - val_loss: 0.1328\n",
      "Epoch 26/100\n",
      "60000/60000 [==============================] - 105s 2ms/sample - loss: 0.1338 - val_loss: 0.1327\n",
      "Epoch 27/100\n",
      "60000/60000 [==============================] - 106s 2ms/sample - loss: 0.1337 - val_loss: 0.1326\n",
      "Epoch 28/100\n",
      "60000/60000 [==============================] - 104s 2ms/sample - loss: 0.1337 - val_loss: 0.1326\n",
      "Epoch 29/100\n",
      "60000/60000 [==============================] - 95s 2ms/sample - loss: 0.1336 - val_loss: 0.1325\n",
      "Epoch 30/100\n",
      "60000/60000 [==============================] - 77s 1ms/sample - loss: 0.1335 - val_loss: 0.1324\n",
      "Epoch 31/100\n",
      "60000/60000 [==============================] - 83s 1ms/sample - loss: 0.1334 - val_loss: 0.1323\n",
      "Epoch 32/100\n",
      "60000/60000 [==============================] - 78s 1ms/sample - loss: 0.1334 - val_loss: 0.1323\n",
      "Epoch 33/100\n",
      "60000/60000 [==============================] - 76s 1ms/sample - loss: 0.1333 - val_loss: 0.1322\n",
      "Epoch 34/100\n",
      "60000/60000 [==============================] - 77s 1ms/sample - loss: 0.1332 - val_loss: 0.1321\n",
      "Epoch 35/100\n",
      "60000/60000 [==============================] - 76s 1ms/sample - loss: 0.1332 - val_loss: 0.1320\n",
      "Epoch 36/100\n",
      "60000/60000 [==============================] - 75s 1ms/sample - loss: 0.1331 - val_loss: 0.1320\n",
      "Epoch 37/100\n",
      "60000/60000 [==============================] - 76s 1ms/sample - loss: 0.1330 - val_loss: 0.1319\n",
      "Epoch 38/100\n",
      "60000/60000 [==============================] - 77s 1ms/sample - loss: 0.1330 - val_loss: 0.1318\n",
      "Epoch 39/100\n",
      "60000/60000 [==============================] - 76s 1ms/sample - loss: 0.1329 - val_loss: 0.1318\n",
      "Epoch 40/100\n",
      "60000/60000 [==============================] - 72s 1ms/sample - loss: 0.1328 - val_loss: 0.1317\n",
      "Epoch 41/100\n",
      "60000/60000 [==============================] - 57s 948us/sample - loss: 0.1328 - val_loss: 0.1316\n",
      "Epoch 42/100\n",
      "60000/60000 [==============================] - 69s 1ms/sample - loss: 0.1327 - val_loss: 0.1316\n",
      "Epoch 43/100\n",
      "60000/60000 [==============================] - 74s 1ms/sample - loss: 0.1326 - val_loss: 0.1315\n",
      "Epoch 44/100\n",
      "60000/60000 [==============================] - 78s 1ms/sample - loss: 0.1325 - val_loss: 0.1314\n",
      "Epoch 45/100\n",
      "60000/60000 [==============================] - 76s 1ms/sample - loss: 0.1325 - val_loss: 0.1314\n",
      "Epoch 46/100\n",
      "60000/60000 [==============================] - 76s 1ms/sample - loss: 0.1324 - val_loss: 0.1313\n",
      "Epoch 47/100\n",
      "60000/60000 [==============================] - 76s 1ms/sample - loss: 0.1323 - val_loss: 0.1312\n",
      "Epoch 48/100\n",
      "60000/60000 [==============================] - 77s 1ms/sample - loss: 0.1323 - val_loss: 0.1312\n",
      "Epoch 49/100\n",
      "60000/60000 [==============================] - 75s 1ms/sample - loss: 0.1322 - val_loss: 0.1311\n",
      "Epoch 50/100\n",
      "60000/60000 [==============================] - 73s 1ms/sample - loss: 0.1321 - val_loss: 0.1310\n",
      "Epoch 51/100\n",
      "60000/60000 [==============================] - 72s 1ms/sample - loss: 0.1321 - val_loss: 0.1309\n",
      "Epoch 52/100\n",
      "60000/60000 [==============================] - 72s 1ms/sample - loss: 0.1320 - val_loss: 0.1309\n",
      "Epoch 53/100\n",
      "60000/60000 [==============================] - 72s 1ms/sample - loss: 0.1320 - val_loss: 0.1308\n",
      "Epoch 54/100\n",
      "60000/60000 [==============================] - 72s 1ms/sample - loss: 0.1319 - val_loss: 0.1307\n",
      "Epoch 55/100\n",
      "60000/60000 [==============================] - 73s 1ms/sample - loss: 0.1318 - val_loss: 0.1307\n",
      "Epoch 56/100\n",
      "60000/60000 [==============================] - 74s 1ms/sample - loss: 0.1318 - val_loss: 0.1306\n",
      "Epoch 57/100\n",
      "60000/60000 [==============================] - 73s 1ms/sample - loss: 0.1317 - val_loss: 0.1306\n",
      "Epoch 58/100\n",
      "60000/60000 [==============================] - 72s 1ms/sample - loss: 0.1316 - val_loss: 0.1305\n",
      "Epoch 59/100\n",
      "60000/60000 [==============================] - 73s 1ms/sample - loss: 0.1316 - val_loss: 0.1304\n",
      "Epoch 60/100\n",
      "60000/60000 [==============================] - 74s 1ms/sample - loss: 0.1315 - val_loss: 0.1304\n",
      "Epoch 61/100\n",
      "60000/60000 [==============================] - 72s 1ms/sample - loss: 0.1314 - val_loss: 0.1303\n",
      "Epoch 62/100\n",
      "60000/60000 [==============================] - 72s 1ms/sample - loss: 0.1314 - val_loss: 0.1302\n",
      "Epoch 63/100\n",
      "60000/60000 [==============================] - 73s 1ms/sample - loss: 0.1313 - val_loss: 0.1302\n",
      "Epoch 64/100\n",
      "60000/60000 [==============================] - 72s 1ms/sample - loss: 0.1312 - val_loss: 0.1301\n",
      "Epoch 65/100\n",
      "60000/60000 [==============================] - 62s 1ms/sample - loss: 0.1312 - val_loss: 0.1300\n",
      "Epoch 66/100\n",
      "60000/60000 [==============================] - 87s 1ms/sample - loss: 0.1298 - val_loss: 0.1286\n",
      "Epoch 89/100\n",
      "60000/60000 [==============================] - 85s 1ms/sample - loss: 0.1297 - val_loss: 0.1285\n",
      "Epoch 90/100\n",
      "60000/60000 [==============================] - 92s 2ms/sample - loss: 0.1296 - val_loss: 0.1285\n",
      "Epoch 91/100\n",
      "60000/60000 [==============================] - 99s 2ms/sample - loss: 0.1296 - val_loss: 0.1284\n",
      "Epoch 92/100\n",
      "60000/60000 [==============================] - 78s 1ms/sample - loss: 0.1295 - val_loss: 0.1283\n",
      "Epoch 93/100\n",
      "60000/60000 [==============================] - 100s 2ms/sample - loss: 0.1291 - val_loss: 0.1279\n",
      "Epoch 100/100\n",
      "60000/60000 [==============================] - 89s 1ms/sample - loss: 0.1290 - val_loss: 0.1279\n"
     ]
    },
    {
     "data": {
      "text/plain": [
       "<tensorflow.python.keras.callbacks.History at 0x205ae0c4f60>"
      ]
     },
     "execution_count": 17,
     "metadata": {},
     "output_type": "execute_result"
    }
   ],
   "source": [
    "from tensorflow.keras.callbacks import TensorBoard\n",
    "\n",
    "autoencoder.fit(x_train, x_train,\n",
    "                epochs=100,\n",
    "                batch_size=100,\n",
    "                shuffle=True,\n",
    "                validation_data=(x_test, x_test))"
   ]
  },
  {
   "cell_type": "code",
   "execution_count": 18,
   "metadata": {},
   "outputs": [],
   "source": [
    "# saving model\n",
    "autoencoder.save(MODEL_PATH + 'autoencoder.h5')"
   ]
  },
  {
   "cell_type": "code",
   "execution_count": 19,
   "metadata": {},
   "outputs": [
    {
     "data": {
      "image/png": "[encoded data removed]",
      "text/plain": [
       "<Figure size 1440x288 with 18 Axes>"
      ]
     },
     "metadata": {
      "needs_background": "light"
     },
     "output_type": "display_data"
    }
   ],
   "source": [
    "decoded_imgs = autoencoder.predict(x_test[:10])\n",
    "\n",
    "n = 10\n",
    "plt.figure(figsize=(20, 4))\n",
    "for i in range(1,n):\n",
    "    # display original\n",
    "    ax = plt.subplot(2, n, i)\n",
    "    plt.imshow(x_test[i].reshape(28, 28))\n",
    "    plt.gray()\n",
    "    ax.get_xaxis().set_visible(False)\n",
    "    ax.get_yaxis().set_visible(False)\n",
    "\n",
    "    # display reconstruction\n",
    "    ax = plt.subplot(2, n, i + n)\n",
    "    plt.imshow(decoded_imgs[i].reshape(28, 28))\n",
    "    plt.gray()\n",
    "    ax.get_xaxis().set_visible(False)\n",
    "    ax.get_yaxis().set_visible(False)\n",
    "plt.show()"
   ]
  },
  {
   "cell_type": "code",
   "execution_count": null,
   "metadata": {},
   "outputs": [],
   "source": []
  },
  {
   "cell_type": "markdown",
   "metadata": {},
   "source": [
    "### Restore model used for unsupervised pre-training"
   ]
  },
  {
   "cell_type": "code",
   "execution_count": 25,
   "metadata": {},
   "outputs": [
    {
     "name": "stdout",
     "output_type": "stream",
     "text": [
      "Model: \"model_1\"\n",
      "_________________________________________________________________\n",
      "Layer (type)                 Output Shape              Param #   \n",
      "=================================================================\n",
      "input_2 (InputLayer)         [(None, 28, 28, 1)]       0         \n",
      "_________________________________________________________________\n",
      "conv2d_5 (Conv2D)            (None, 28, 28, 8)         80        \n",
      "_________________________________________________________________\n",
      "max_pooling2d_2 (MaxPooling2 (None, 14, 14, 8)         0         \n",
      "_________________________________________________________________\n",
      "conv2d_6 (Conv2D)            (None, 14, 14, 4)         292       \n",
      "_________________________________________________________________\n",
      "max_pooling2d_3 (MaxPooling2 (None, 7, 7, 4)           0         \n",
      "_________________________________________________________________\n",
      "conv2d_7 (Conv2D)            (None, 7, 7, 4)           148       \n",
      "_________________________________________________________________\n",
      "up_sampling2d_2 (UpSampling2 (None, 14, 14, 4)         0         \n",
      "_________________________________________________________________\n",
      "conv2d_8 (Conv2D)            (None, 14, 14, 8)         296       \n",
      "_________________________________________________________________\n",
      "up_sampling2d_3 (UpSampling2 (None, 28, 28, 8)         0         \n",
      "_________________________________________________________________\n",
      "conv2d_9 (Conv2D)            (None, 28, 28, 1)         73        \n",
      "=================================================================\n",
      "Total params: 889\n",
      "Trainable params: 889\n",
      "Non-trainable params: 0\n",
      "_________________________________________________________________\n"
     ]
    }
   ],
   "source": [
    "pretrained_autoencoder = tf.keras.models.load_model(MODEL_PATH + 'autoencoder.h5')\n",
    "pretrained_autoencoder.summary()"
   ]
  },
  {
   "cell_type": "markdown",
   "metadata": {},
   "source": [
    "### adding layers at the end of the pretrained model"
   ]
  },
  {
   "cell_type": "code",
   "execution_count": 27,
   "metadata": {},
   "outputs": [],
   "source": [
    "from tensorflow.keras.models import Model\n",
    "from tensorflow.keras.layers import Dense"
   ]
  },
  {
   "cell_type": "code",
   "execution_count": 31,
   "metadata": {},
   "outputs": [],
   "source": [
    "#removing decoder (last 4 layers)\n",
    "x = pretrained_autoencoder.layers[-5].output\n",
    "# Adding layers\n",
    "x = Conv2D(32, (3, 3), activation='relu', padding='same')(x)\n",
    "x = Conv2D(64, (3, 3), strides=2, activation='relu', padding='same')(x)\n",
    "x = Conv2D(128, (3, 3), strides=2, activation='relu', padding='same')(x)\n",
    "x = Dense(128, activation='relu')(x)\n",
    "# Adding a fully connected layer for the 10 classes 0 to 9\n",
    "predictions = Dense(10, activation='softmax')(x)"
   ]
  },
  {
   "cell_type": "code",
   "execution_count": 32,
   "metadata": {},
   "outputs": [
    {
     "name": "stdout",
     "output_type": "stream",
     "text": [
      "Model: \"model_3\"\n",
      "_________________________________________________________________\n",
      "Layer (type)                 Output Shape              Param #   \n",
      "=================================================================\n",
      "input_2 (InputLayer)         [(None, 28, 28, 1)]       0         \n",
      "_________________________________________________________________\n",
      "conv2d_5 (Conv2D)            (None, 28, 28, 8)         80        \n",
      "_________________________________________________________________\n",
      "max_pooling2d_2 (MaxPooling2 (None, 14, 14, 8)         0         \n",
      "_________________________________________________________________\n",
      "conv2d_6 (Conv2D)            (None, 14, 14, 4)         292       \n",
      "_________________________________________________________________\n",
      "max_pooling2d_3 (MaxPooling2 (None, 7, 7, 4)           0         \n",
      "_________________________________________________________________\n",
      "conv2d_7 (Conv2D)            (None, 7, 7, 4)           148       \n",
      "_________________________________________________________________\n",
      "conv2d_14 (Conv2D)           (None, 7, 7, 32)          1184      \n",
      "_________________________________________________________________\n",
      "conv2d_15 (Conv2D)           (None, 4, 4, 64)          18496     \n",
      "_________________________________________________________________\n",
      "conv2d_16 (Conv2D)           (None, 2, 2, 128)         73856     \n",
      "_________________________________________________________________\n",
      "dense_2 (Dense)              (None, 2, 2, 128)         16512     \n",
      "_________________________________________________________________\n",
      "dense_3 (Dense)              (None, 2, 2, 10)          1290      \n",
      "=================================================================\n",
      "Total params: 111,858\n",
      "Trainable params: 111,858\n",
      "Non-trainable params: 0\n",
      "_________________________________________________________________\n"
     ]
    }
   ],
   "source": [
    "model = Model(inputs=pretrained_autoencoder.input, outputs=predictions)\n",
    "model.summary()"
   ]
  },
  {
   "cell_type": "markdown",
   "metadata": {},
   "source": [
    "### freezing model"
   ]
  },
  {
   "cell_type": "code",
   "execution_count": 33,
   "metadata": {},
   "outputs": [],
   "source": [
    "# freeze all layers of the pre-trained model\n",
    "# we will only update the weights for the added layers\n",
    "for layer in pretrained_autoencoder.layers:\n",
    "    layer.trainable = False\n",
    "\n",
    "# compile the model with adam optimizer and sparse_categorical_crossentropy loss function\n",
    "model.compile(optimizer='adam', loss='sparse_categorical_crossentropy', metrics=['sparse_categorical_accuracy'])"
   ]
  },
  {
   "cell_type": "code",
   "execution_count": null,
   "metadata": {},
   "outputs": [],
   "source": []
  }
 ],
 "metadata": {
  "kernelspec": {
   "display_name": "Python 3",
   "language": "python",
   "name": "python3"
  },
  "language_info": {
   "codemirror_mode": {
    "name": "ipython",
    "version": 3
   },
   "file_extension": ".py",
   "mimetype": "text/x-python",
   "name": "python",
   "nbconvert_exporter": "python",
   "pygments_lexer": "ipython3",
   "version": "3.7.3"
  }
 },
 "nbformat": 4,
 "nbformat_minor": 2
}
