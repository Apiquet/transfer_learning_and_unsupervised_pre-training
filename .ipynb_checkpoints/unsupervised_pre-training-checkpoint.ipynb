{
 "cells": [
  {
   "cell_type": "code",
   "execution_count": 1,
   "metadata": {},
   "outputs": [],
   "source": [
    "import tensorflow as tf\n",
    "import numpy as np\n",
    "import sys\n",
    "from datetime import datetime\n",
    "from functools import partial\n",
    "from utils import *\n",
    "\n",
    "%matplotlib inline\n",
    "import matplotlib\n",
    "import matplotlib.pyplot as plt\n",
    "\n",
    "MODEL_PATH = \"models/autoencoder/\""
   ]
  },
  {
   "cell_type": "code",
   "execution_count": 2,
   "metadata": {},
   "outputs": [],
   "source": [
    "from tensorflow.keras.layers import Input, Dense, Conv2D, MaxPooling2D, UpSampling2D\n",
    "from tensorflow.keras.models import Model\n",
    "from tensorflow.keras import backend as K"
   ]
  },
  {
   "cell_type": "code",
   "execution_count": 3,
   "metadata": {},
   "outputs": [
    {
     "name": "stderr",
     "output_type": "stream",
     "text": [
      "WARNING: Logging before flag parsing goes to stderr.\n",
      "W0831 23:18:37.014140 11604 deprecation.py:506] From C:\\Users\\antho\\Anaconda3\\lib\\site-packages\\tensorflow\\python\\ops\\init_ops.py:1251: calling VarianceScaling.__init__ (from tensorflow.python.ops.init_ops) with dtype is deprecated and will be removed in a future version.\n",
      "Instructions for updating:\n",
      "Call initializer instance with the dtype argument instead of passing it to the constructor\n",
      "W0831 23:18:37.151165 11604 deprecation.py:323] From C:\\Users\\antho\\Anaconda3\\lib\\site-packages\\tensorflow\\python\\ops\\nn_impl.py:180: add_dispatch_support.<locals>.wrapper (from tensorflow.python.ops.array_ops) is deprecated and will be removed in a future version.\n",
      "Instructions for updating:\n",
      "Use tf.where in 2.0, which has the same broadcast rule as np.where\n"
     ]
    }
   ],
   "source": [
    "input_img = Input(shape=(28, 28, 1))                                    # 28 x 28 x 1\n",
    "\n",
    "x = Conv2D(8, (3, 3), activation='relu', padding='same')(input_img)    # 28 x 28 x 8\n",
    "x_M1 = MaxPooling2D((2, 2), padding='same')(x)                          # 14 x 14 x 8\n",
    "x_C2 = Conv2D(4, (3, 3), activation='relu', padding='same')(x_M1)       # 14 x 14 x 4\n",
    "encoded = MaxPooling2D((2, 2), padding='same')(x_C2)                    # 7 x 7 x 4 = (28 x 28 x 1) * 0.25 (and each feature map has the same replicated weights so it decreases again the complexity)\n",
    "\n",
    "x_C3 = Conv2D(4, (3, 3), activation='relu', padding='same')(encoded)    # 7 x 7 x 4\n",
    "x_U1 = UpSampling2D((2, 2))(x_C3)                                       # 14 x 14 x 4\n",
    "x_C4 = Conv2D(8, (3, 3), activation='relu', padding='same')(x_U1)      # 14 x 14 x 8\n",
    "x_U2 = UpSampling2D((2, 2))(x_C4)                                       # 28 x 28 x 8\n",
    "decoded = Conv2D(1, (3, 3), activation='sigmoid', padding='same')(x_U2) # 28 x 28 x 1\n",
    "\n",
    "autoencoder = Model(input_img, decoded)\n",
    "autoencoder.compile(optimizer='adadelta', loss='binary_crossentropy')"
   ]
  },
  {
   "cell_type": "code",
   "execution_count": 4,
   "metadata": {},
   "outputs": [
    {
     "data": {
      "text/plain": [
       "TensorShape([Dimension(None), Dimension(28), Dimension(28), Dimension(8)])"
      ]
     },
     "execution_count": 4,
     "metadata": {},
     "output_type": "execute_result"
    }
   ],
   "source": [
    "x.shape"
   ]
  },
  {
   "cell_type": "code",
   "execution_count": 5,
   "metadata": {},
   "outputs": [
    {
     "data": {
      "text/plain": [
       "TensorShape([Dimension(None), Dimension(14), Dimension(14), Dimension(8)])"
      ]
     },
     "execution_count": 5,
     "metadata": {},
     "output_type": "execute_result"
    }
   ],
   "source": [
    "x_M1.shape"
   ]
  },
  {
   "cell_type": "code",
   "execution_count": 6,
   "metadata": {},
   "outputs": [
    {
     "data": {
      "text/plain": [
       "TensorShape([Dimension(None), Dimension(14), Dimension(14), Dimension(4)])"
      ]
     },
     "execution_count": 6,
     "metadata": {},
     "output_type": "execute_result"
    }
   ],
   "source": [
    "x_C2.shape"
   ]
  },
  {
   "cell_type": "code",
   "execution_count": 7,
   "metadata": {},
   "outputs": [
    {
     "data": {
      "text/plain": [
       "TensorShape([Dimension(None), Dimension(7), Dimension(7), Dimension(4)])"
      ]
     },
     "execution_count": 7,
     "metadata": {},
     "output_type": "execute_result"
    }
   ],
   "source": [
    "encoded.shape"
   ]
  },
  {
   "cell_type": "code",
   "execution_count": 8,
   "metadata": {},
   "outputs": [
    {
     "data": {
      "text/plain": [
       "TensorShape([Dimension(None), Dimension(7), Dimension(7), Dimension(4)])"
      ]
     },
     "execution_count": 8,
     "metadata": {},
     "output_type": "execute_result"
    }
   ],
   "source": [
    "x_C3.shape"
   ]
  },
  {
   "cell_type": "code",
   "execution_count": 9,
   "metadata": {},
   "outputs": [
    {
     "data": {
      "text/plain": [
       "TensorShape([Dimension(None), Dimension(14), Dimension(14), Dimension(4)])"
      ]
     },
     "execution_count": 9,
     "metadata": {},
     "output_type": "execute_result"
    }
   ],
   "source": [
    "x_U1.shape"
   ]
  },
  {
   "cell_type": "code",
   "execution_count": 10,
   "metadata": {},
   "outputs": [
    {
     "data": {
      "text/plain": [
       "TensorShape([Dimension(None), Dimension(14), Dimension(14), Dimension(8)])"
      ]
     },
     "execution_count": 10,
     "metadata": {},
     "output_type": "execute_result"
    }
   ],
   "source": [
    "x_C4.shape"
   ]
  },
  {
   "cell_type": "code",
   "execution_count": 11,
   "metadata": {},
   "outputs": [
    {
     "data": {
      "text/plain": [
       "TensorShape([Dimension(None), Dimension(28), Dimension(28), Dimension(8)])"
      ]
     },
     "execution_count": 11,
     "metadata": {},
     "output_type": "execute_result"
    }
   ],
   "source": [
    "x_U2.shape"
   ]
  },
  {
   "cell_type": "code",
   "execution_count": 12,
   "metadata": {},
   "outputs": [
    {
     "data": {
      "text/plain": [
       "TensorShape([Dimension(None), Dimension(28), Dimension(28), Dimension(1)])"
      ]
     },
     "execution_count": 12,
     "metadata": {},
     "output_type": "execute_result"
    }
   ],
   "source": [
    "decoded.shape"
   ]
  },
  {
   "cell_type": "code",
   "execution_count": 4,
   "metadata": {},
   "outputs": [],
   "source": [
    "from tensorflow.keras.datasets import mnist\n",
    "import numpy as np\n",
    "\n",
    "(x_train, y_train), (x_test, y_test) = mnist.load_data()\n",
    "\n",
    "x_train = x_train.astype('float32') / 255.\n",
    "x_test = x_test.astype('float32') / 255.\n",
    "x_train = np.reshape(x_train, (len(x_train), 28, 28, 1))  # adapt this if using `channels_first` image data format\n",
    "x_test = np.reshape(x_test, (len(x_test), 28, 28, 1))  # adapt this if using `channels_first` image data format"
   ]
  },
  {
   "cell_type": "code",
   "execution_count": 6,
   "metadata": {},
   "outputs": [],
   "source": [
    "autoencoder = tf.keras.models.load_model(MODEL_PATH + 'autoencoder.h5')"
   ]
  },
  {
   "cell_type": "code",
   "execution_count": 10,
   "metadata": {},
   "outputs": [
    {
     "name": "stdout",
     "output_type": "stream",
     "text": [
      "Train on 60000 samples, validate on 10000 samples\n",
      "Epoch 1/100\n",
      "60000/60000 [==============================] - 52s 867us/sample - loss: 0.1200 - val_loss: 0.1189\n",
      "Epoch 2/100\n",
      "60000/60000 [==============================] - 58s 969us/sample - loss: 0.1200 - val_loss: 0.1188\n",
      "Epoch 3/100\n",
      "60000/60000 [==============================] - 68s 1ms/sample - loss: 0.1199 - val_loss: 0.1188\n",
      "Epoch 4/100\n",
      "60000/60000 [==============================] - 71s 1ms/sample - loss: 0.1199 - val_loss: 0.1187\n",
      "Epoch 5/100\n",
      "60000/60000 [==============================] - 71s 1ms/sample - loss: 0.1198 - val_loss: 0.1187\n",
      "Epoch 6/100\n",
      "60000/60000 [==============================] - 72s 1ms/sample - loss: 0.1198 - val_loss: 0.1187\n",
      "Epoch 7/100\n",
      "60000/60000 [==============================] - 71s 1ms/sample - loss: 0.1197 - val_loss: 0.1186\n",
      "Epoch 8/100\n",
      "60000/60000 [==============================] - 72s 1ms/sample - loss: 0.1197 - val_loss: 0.1186\n",
      "Epoch 9/100\n",
      "60000/60000 [==============================] - 72s 1ms/sample - loss: 0.1197 - val_loss: 0.1185\n",
      "Epoch 10/100\n",
      "60000/60000 [==============================] - 70s 1ms/sample - loss: 0.1196 - val_loss: 0.1185\n",
      "Epoch 11/100\n",
      "60000/60000 [==============================] - 69s 1ms/sample - loss: 0.1196 - val_loss: 0.1184\n",
      "Epoch 12/100\n",
      "60000/60000 [==============================] - 70s 1ms/sample - loss: 0.1195 - val_loss: 0.1184\n",
      "Epoch 13/100\n",
      "60000/60000 [==============================] - 70s 1ms/sample - loss: 0.1195 - val_loss: 0.1183\n",
      "Epoch 14/100\n",
      "60000/60000 [==============================] - 71s 1ms/sample - loss: 0.1194 - val_loss: 0.1183\n",
      "Epoch 15/100\n",
      "60000/60000 [==============================] - 70s 1ms/sample - loss: 0.1194 - val_loss: 0.1183\n",
      "Epoch 16/100\n",
      "60000/60000 [==============================] - 70s 1ms/sample - loss: 0.1193 - val_loss: 0.1182\n",
      "Epoch 17/100\n",
      "60000/60000 [==============================] - 70s 1ms/sample - loss: 0.1193 - val_loss: 0.1182\n",
      "Epoch 18/100\n",
      "60000/60000 [==============================] - 72s 1ms/sample - loss: 0.1193 - val_loss: 0.1181\n",
      "Epoch 19/100\n",
      "60000/60000 [==============================] - 71s 1ms/sample - loss: 0.1192 - val_loss: 0.1181\n",
      "Epoch 20/100\n",
      "60000/60000 [==============================] - 71s 1ms/sample - loss: 0.1192 - val_loss: 0.1180\n",
      "Epoch 21/100\n",
      "60000/60000 [==============================] - 71s 1ms/sample - loss: 0.1191 - val_loss: 0.1180\n",
      "Epoch 22/100\n",
      "60000/60000 [==============================] - 71s 1ms/sample - loss: 0.1191 - val_loss: 0.1180\n",
      "Epoch 23/100\n",
      "60000/60000 [==============================] - 70s 1ms/sample - loss: 0.1190 - val_loss: 0.1179\n",
      "Epoch 24/100\n",
      "60000/60000 [==============================] - 70s 1ms/sample - loss: 0.1190 - val_loss: 0.1179\n",
      "Epoch 25/100\n",
      "60000/60000 [==============================] - 70s 1ms/sample - loss: 0.1190 - val_loss: 0.1178\n",
      "Epoch 26/100\n",
      "60000/60000 [==============================] - 69s 1ms/sample - loss: 0.1189 - val_loss: 0.1178\n",
      "Epoch 27/100\n",
      "60000/60000 [==============================] - 68s 1ms/sample - loss: 0.1189 - val_loss: 0.1177\n",
      "Epoch 28/100\n",
      "60000/60000 [==============================] - 67s 1ms/sample - loss: 0.1188 - val_loss: 0.1177\n",
      "Epoch 29/100\n",
      "60000/60000 [==============================] - 67s 1ms/sample - loss: 0.1188 - val_loss: 0.1177\n",
      "Epoch 30/100\n",
      "60000/60000 [==============================] - 67s 1ms/sample - loss: 0.1187 - val_loss: 0.1176\n",
      "Epoch 31/100\n",
      "60000/60000 [==============================] - 68s 1ms/sample - loss: 0.1187 - val_loss: 0.1176\n",
      "Epoch 32/100\n",
      "60000/60000 [==============================] - 67s 1ms/sample - loss: 0.1187 - val_loss: 0.1175\n",
      "Epoch 33/100\n",
      "60000/60000 [==============================] - 67s 1ms/sample - loss: 0.1186 - val_loss: 0.1175\n",
      "Epoch 34/100\n",
      "60000/60000 [==============================] - 67s 1ms/sample - loss: 0.1186 - val_loss: 0.1175\n",
      "Epoch 35/100\n",
      "60000/60000 [==============================] - 68s 1ms/sample - loss: 0.1185 - val_loss: 0.1174\n",
      "Epoch 36/100\n",
      "60000/60000 [==============================] - 67s 1ms/sample - loss: 0.1185 - val_loss: 0.1174\n",
      "Epoch 37/100\n",
      "60000/60000 [==============================] - 67s 1ms/sample - loss: 0.1185 - val_loss: 0.1173\n",
      "Epoch 38/100\n",
      "60000/60000 [==============================] - 67s 1ms/sample - loss: 0.1184 - val_loss: 0.1173\n",
      "Epoch 39/100\n",
      "60000/60000 [==============================] - 67s 1ms/sample - loss: 0.1184 - val_loss: 0.1173\n",
      "Epoch 40/100\n",
      "60000/60000 [==============================] - 67s 1ms/sample - loss: 0.1183 - val_loss: 0.1172\n",
      "Epoch 41/100\n",
      "60000/60000 [==============================] - 68s 1ms/sample - loss: 0.1183 - val_loss: 0.1172\n",
      "Epoch 42/100\n",
      "60000/60000 [==============================] - 67s 1ms/sample - loss: 0.1183 - val_loss: 0.1171\n",
      "Epoch 43/100\n",
      "60000/60000 [==============================] - 67s 1ms/sample - loss: 0.1182 - val_loss: 0.1171\n",
      "Epoch 44/100\n",
      "60000/60000 [==============================] - 67s 1ms/sample - loss: 0.1182 - val_loss: 0.1171\n",
      "Epoch 45/100\n",
      "60000/60000 [==============================] - 68s 1ms/sample - loss: 0.1181 - val_loss: 0.1170\n",
      "Epoch 46/100\n",
      "60000/60000 [==============================] - 67s 1ms/sample - loss: 0.1181 - val_loss: 0.1170\n",
      "Epoch 47/100\n",
      "60000/60000 [==============================] - 67s 1ms/sample - loss: 0.1181 - val_loss: 0.1169\n",
      "Epoch 48/100\n",
      "60000/60000 [==============================] - 67s 1ms/sample - loss: 0.1180 - val_loss: 0.1169\n",
      "Epoch 49/100\n",
      "60000/60000 [==============================] - 67s 1ms/sample - loss: 0.1180 - val_loss: 0.1169\n",
      "Epoch 50/100\n",
      "60000/60000 [==============================] - 66s 1ms/sample - loss: 0.1179 - val_loss: 0.1168\n",
      "Epoch 51/100\n",
      "60000/60000 [==============================] - 68s 1ms/sample - loss: 0.1179 - val_loss: 0.1168\n",
      "Epoch 52/100\n",
      "60000/60000 [==============================] - 67s 1ms/sample - loss: 0.1179 - val_loss: 0.1167\n",
      "Epoch 53/100\n",
      "60000/60000 [==============================] - 67s 1ms/sample - loss: 0.1178 - val_loss: 0.1167\n",
      "Epoch 54/100\n",
      "60000/60000 [==============================] - 67s 1ms/sample - loss: 0.1178 - val_loss: 0.1167\n",
      "Epoch 55/100\n",
      "60000/60000 [==============================] - 66s 1ms/sample - loss: 0.1177 - val_loss: 0.1166\n",
      "Epoch 56/100\n",
      "60000/60000 [==============================] - 62s 1ms/sample - loss: 0.1177 - val_loss: 0.1166\n",
      "Epoch 57/100\n",
      "60000/60000 [==============================] - 65s 1ms/sample - loss: 0.1177 - val_loss: 0.1165\n",
      "Epoch 58/100\n",
      "60000/60000 [==============================] - 66s 1ms/sample - loss: 0.1176 - val_loss: 0.1165\n",
      "Epoch 59/100\n",
      "60000/60000 [==============================] - 60s 1ms/sample - loss: 0.1176 - val_loss: 0.1165\n",
      "Epoch 60/100\n",
      "60000/60000 [==============================] - 64s 1ms/sample - loss: 0.1176 - val_loss: 0.1164\n",
      "Epoch 61/100\n",
      "60000/60000 [==============================] - 59s 985us/sample - loss: 0.1175 - val_loss: 0.1164\n",
      "Epoch 62/100\n",
      "60000/60000 [==============================] - 62s 1ms/sample - loss: 0.1175 - val_loss: 0.1164\n",
      "Epoch 63/100\n",
      "60000/60000 [==============================] - 63s 1ms/sample - loss: 0.1174 - val_loss: 0.1163\n",
      "Epoch 64/100\n",
      "60000/60000 [==============================] - 86s 1ms/sample - loss: 0.1164 - val_loss: 0.1153\n",
      "Epoch 92/100\n",
      "60000/60000 [==============================] - 85s 1ms/sample - loss: 0.1164 - val_loss: 0.1152\n",
      "Epoch 93/100\n",
      "60000/60000 [==============================] - 86s 1ms/sample - loss: 0.1163 - val_loss: 0.1152\n",
      "Epoch 94/100\n",
      "60000/60000 [==============================] - 87s 1ms/sample - loss: 0.1163 - val_loss: 0.1152\n",
      "Epoch 95/100\n",
      "60000/60000 [==============================] - 87s 1ms/sample - loss: 0.1163 - val_loss: 0.1151\n",
      "Epoch 96/100\n",
      "60000/60000 [==============================] - 83s 1ms/sample - loss: 0.1162 - val_loss: 0.1151\n",
      "Epoch 97/100\n",
      "60000/60000 [==============================] - 94s 2ms/sample - loss: 0.1162 - val_loss: 0.1151\n",
      "Epoch 98/100\n",
      "60000/60000 [==============================] - 90s 2ms/sample - loss: 0.1161 - val_loss: 0.1150\n",
      "Epoch 99/100\n",
      "60000/60000 [==============================] - 93s 2ms/sample - loss: 0.1161 - val_loss: 0.1150\n",
      "Epoch 100/100\n",
      "60000/60000 [==============================] - 88s 1ms/sample - loss: 0.1161 - val_loss: 0.1150\n"
     ]
    },
    {
     "data": {
      "text/plain": [
       "<tensorflow.python.keras.callbacks.History at 0x1d00dcd54e0>"
      ]
     },
     "execution_count": 10,
     "metadata": {},
     "output_type": "execute_result"
    }
   ],
   "source": [
    "from tensorflow.keras.callbacks import TensorBoard\n",
    "\n",
    "autoencoder.fit(x_train, x_train,\n",
    "                epochs=100,\n",
    "                batch_size=100,\n",
    "                shuffle=True,\n",
    "                validation_data=(x_test, x_test))"
   ]
  },
  {
   "cell_type": "code",
   "execution_count": 13,
   "metadata": {},
   "outputs": [],
   "source": [
    "# saving model\n",
    "autoencoder.save(MODEL_PATH + 'autoencoder.h5')"
   ]
  },
  {
   "cell_type": "code",
   "execution_count": 12,
   "metadata": {},
   "outputs": [
    {
     "data": {
      "image/png": "[encoded data removed]",
      "text/plain": [
       "<Figure size 1440x288 with 18 Axes>"
      ]
     },
     "metadata": {
      "needs_background": "light"
     },
     "output_type": "display_data"
    }
   ],
   "source": [
    "decoded_imgs = autoencoder.predict(x_test[:10])\n",
    "\n",
    "n = 10\n",
    "plt.figure(figsize=(20, 4))\n",
    "for i in range(1,n):\n",
    "    # display original\n",
    "    ax = plt.subplot(2, n, i)\n",
    "    plt.imshow(x_test[i].reshape(28, 28))\n",
    "    plt.gray()\n",
    "    ax.get_xaxis().set_visible(False)\n",
    "    ax.get_yaxis().set_visible(False)\n",
    "\n",
    "    # display reconstruction\n",
    "    ax = plt.subplot(2, n, i + n)\n",
    "    plt.imshow(decoded_imgs[i].reshape(28, 28))\n",
    "    plt.gray()\n",
    "    ax.get_xaxis().set_visible(False)\n",
    "    ax.get_yaxis().set_visible(False)\n",
    "plt.show()"
   ]
  },
  {
   "cell_type": "code",
   "execution_count": null,
   "metadata": {},
   "outputs": [],
   "source": []
  },
  {
   "cell_type": "markdown",
   "metadata": {},
   "source": [
    "### Restore model used for unsupervised pre-training"
   ]
  },
  {
   "cell_type": "code",
   "execution_count": 8,
   "metadata": {},
   "outputs": [
    {
     "name": "stdout",
     "output_type": "stream",
     "text": [
      "Model: \"model_1\"\n",
      "_________________________________________________________________\n",
      "Layer (type)                 Output Shape              Param #   \n",
      "=================================================================\n",
      "input_2 (InputLayer)         [(None, 28, 28, 1)]       0         \n",
      "_________________________________________________________________\n",
      "conv2d_5 (Conv2D)            (None, 28, 28, 8)         80        \n",
      "_________________________________________________________________\n",
      "max_pooling2d_2 (MaxPooling2 (None, 14, 14, 8)         0         \n",
      "_________________________________________________________________\n",
      "conv2d_6 (Conv2D)            (None, 14, 14, 4)         292       \n",
      "_________________________________________________________________\n",
      "max_pooling2d_3 (MaxPooling2 (None, 7, 7, 4)           0         \n",
      "_________________________________________________________________\n",
      "conv2d_7 (Conv2D)            (None, 7, 7, 4)           148       \n",
      "_________________________________________________________________\n",
      "up_sampling2d_2 (UpSampling2 (None, 14, 14, 4)         0         \n",
      "_________________________________________________________________\n",
      "conv2d_8 (Conv2D)            (None, 14, 14, 8)         296       \n",
      "_________________________________________________________________\n",
      "up_sampling2d_3 (UpSampling2 (None, 28, 28, 8)         0         \n",
      "_________________________________________________________________\n",
      "conv2d_9 (Conv2D)            (None, 28, 28, 1)         73        \n",
      "=================================================================\n",
      "Total params: 889\n",
      "Trainable params: 889\n",
      "Non-trainable params: 0\n",
      "_________________________________________________________________\n"
     ]
    }
   ],
   "source": [
    "pretrained_autoencoder = tf.keras.models.load_model(MODEL_PATH + 'autoencoder.h5')\n",
    "pretrained_autoencoder.summary()"
   ]
  },
  {
   "cell_type": "markdown",
   "metadata": {},
   "source": [
    "### adding layers at the end of the pretrained model"
   ]
  },
  {
   "cell_type": "code",
   "execution_count": 9,
   "metadata": {},
   "outputs": [],
   "source": [
    "from tensorflow.keras.models import Model\n",
    "from tensorflow.keras.layers import Dense\n",
    "from tensorflow.keras.layers import Flatten"
   ]
  },
  {
   "cell_type": "code",
   "execution_count": 13,
   "metadata": {},
   "outputs": [],
   "source": [
    "#removing decoder (last 4 layers)\n",
    "x = pretrained_autoencoder.layers[-5].output\n",
    "# Adding layers\n",
    "x = Conv2D(32, (3, 3), activation='relu', padding='same')(x)\n",
    "x = Conv2D(64, (3, 3), strides=2, activation='relu', padding='same')(x)\n",
    "x = Conv2D(128, (3, 3), strides=2, activation='relu', padding='same')(x)\n",
    "x = Flatten()(x)\n",
    "x = Dense(128, activation='relu')(x)\n",
    "# Adding a fully connected layer for the 10 classes 0 to 9\n",
    "predictions = Dense(10, activation='softmax')(x)"
   ]
  },
  {
   "cell_type": "code",
   "execution_count": 14,
   "metadata": {},
   "outputs": [
    {
     "name": "stdout",
     "output_type": "stream",
     "text": [
      "Model: \"model\"\n",
      "_________________________________________________________________\n",
      "Layer (type)                 Output Shape              Param #   \n",
      "=================================================================\n",
      "input_2 (InputLayer)         [(None, 28, 28, 1)]       0         \n",
      "_________________________________________________________________\n",
      "conv2d_5 (Conv2D)            (None, 28, 28, 8)         80        \n",
      "_________________________________________________________________\n",
      "max_pooling2d_2 (MaxPooling2 (None, 14, 14, 8)         0         \n",
      "_________________________________________________________________\n",
      "conv2d_6 (Conv2D)            (None, 14, 14, 4)         292       \n",
      "_________________________________________________________________\n",
      "max_pooling2d_3 (MaxPooling2 (None, 7, 7, 4)           0         \n",
      "_________________________________________________________________\n",
      "conv2d_7 (Conv2D)            (None, 7, 7, 4)           148       \n",
      "_________________________________________________________________\n",
      "conv2d (Conv2D)              (None, 7, 7, 32)          1184      \n",
      "_________________________________________________________________\n",
      "conv2d_1 (Conv2D)            (None, 4, 4, 64)          18496     \n",
      "_________________________________________________________________\n",
      "conv2d_2 (Conv2D)            (None, 2, 2, 128)         73856     \n",
      "_________________________________________________________________\n",
      "flatten (Flatten)            (None, 512)               0         \n",
      "_________________________________________________________________\n",
      "dense (Dense)                (None, 128)               65664     \n",
      "_________________________________________________________________\n",
      "dense_1 (Dense)              (None, 10)                1290      \n",
      "=================================================================\n",
      "Total params: 161,010\n",
      "Trainable params: 161,010\n",
      "Non-trainable params: 0\n",
      "_________________________________________________________________\n"
     ]
    }
   ],
   "source": [
    "model = Model(inputs=pretrained_autoencoder.input, outputs=predictions)\n",
    "model.summary()"
   ]
  },
  {
   "cell_type": "markdown",
   "metadata": {},
   "source": [
    "### freezing model"
   ]
  },
  {
   "cell_type": "code",
   "execution_count": 15,
   "metadata": {},
   "outputs": [],
   "source": [
    "# freeze all layers of the pre-trained model\n",
    "# we will only update the weights for the added layers\n",
    "for layer in pretrained_autoencoder.layers:\n",
    "    layer.trainable = False\n",
    "\n",
    "# compile the model with adam optimizer and sparse_categorical_crossentropy loss function\n",
    "model.compile(optimizer='adam', loss='sparse_categorical_crossentropy', metrics=['sparse_categorical_accuracy'])"
   ]
  },
  {
   "cell_type": "markdown",
   "metadata": {},
   "source": [
    "### Training without data augmentation"
   ]
  },
  {
   "cell_type": "code",
   "execution_count": 18,
   "metadata": {},
   "outputs": [],
   "source": [
    "samples_for_training = 500\n",
    "X_train, y_train = x_train[:samples_for_training], y_train[:samples_for_training]"
   ]
  },
  {
   "cell_type": "code",
   "execution_count": 27,
   "metadata": {},
   "outputs": [
    {
     "name": "stdout",
     "output_type": "stream",
     "text": [
      "Epoch 1/10\n",
      "1000/1000 [==============================] - 0s 241us/sample - loss: 0.0076 - sparse_categorical_accuracy: 0.9990\n",
      "Epoch 2/10\n",
      "1000/1000 [==============================] - 0s 244us/sample - loss: 0.0066 - sparse_categorical_accuracy: 1.0000\n",
      "Epoch 3/10\n",
      "1000/1000 [==============================] - 0s 238us/sample - loss: 0.0055 - sparse_categorical_accuracy: 1.0000\n",
      "Epoch 4/10\n",
      "1000/1000 [==============================] - 0s 214us/sample - loss: 0.0061 - sparse_categorical_accuracy: 1.0000\n",
      "Epoch 5/10\n",
      "1000/1000 [==============================] - 0s 216us/sample - loss: 0.0054 - sparse_categorical_accuracy: 0.9990\n",
      "Epoch 6/10\n",
      "1000/1000 [==============================] - 0s 211us/sample - loss: 0.0071 - sparse_categorical_accuracy: 0.9990\n",
      "Epoch 7/10\n",
      "1000/1000 [==============================] - 0s 231us/sample - loss: 0.0053 - sparse_categorical_accuracy: 1.0000\n",
      "Epoch 8/10\n",
      "1000/1000 [==============================] - 0s 214us/sample - loss: 0.0043 - sparse_categorical_accuracy: 1.0000\n",
      "Epoch 9/10\n",
      "1000/1000 [==============================] - 0s 211us/sample - loss: 0.0037 - sparse_categorical_accuracy: 1.0000\n",
      "Epoch 10/10\n",
      "1000/1000 [==============================] - 0s 213us/sample - loss: 0.0029 - sparse_categorical_accuracy: 1.0000\n"
     ]
    }
   ],
   "source": [
    "history = model.fit(X_train, y_train, batch_size=100, epochs=10, verbose=1)"
   ]
  },
  {
   "cell_type": "code",
   "execution_count": 28,
   "metadata": {},
   "outputs": [
    {
     "name": "stdout",
     "output_type": "stream",
     "text": [
      "10000/10000 [==============================] - 2s 192us/sample - loss: 0.4192 - sparse_categorical_accuracy: 0.9019\n"
     ]
    }
   ],
   "source": [
    "score = model.evaluate(x_test,y_test, verbose=1)"
   ]
  },
  {
   "cell_type": "markdown",
   "metadata": {},
   "source": [
    "## Neural net without pre-trained model"
   ]
  },
  {
   "cell_type": "code",
   "execution_count": 38,
   "metadata": {},
   "outputs": [],
   "source": [
    "#removing decoder (last 4 layers)\n",
    "input_images = Input(shape=(28, 28, 1)) \n",
    "# Adding layers\n",
    "x = Conv2D(32, (3, 3), activation='relu', padding='same')(input_images)\n",
    "x = Conv2D(64, (3, 3), strides=2, activation='relu', padding='same')(x)\n",
    "x = Conv2D(128, (3, 3), strides=2, activation='relu', padding='same')(x)\n",
    "x = Flatten()(x)\n",
    "x = Dense(128, activation='relu')(x)\n",
    "# Adding a fully connected layer for the 10 classes 0 to 9\n",
    "model_without_pretrained = Dense(10, activation='softmax')(x)"
   ]
  },
  {
   "cell_type": "code",
   "execution_count": 39,
   "metadata": {},
   "outputs": [
    {
     "name": "stdout",
     "output_type": "stream",
     "text": [
      "Model: \"model_5\"\n",
      "_________________________________________________________________\n",
      "Layer (type)                 Output Shape              Param #   \n",
      "=================================================================\n",
      "input_5 (InputLayer)         [(None, 28, 28, 1)]       0         \n",
      "_________________________________________________________________\n",
      "conv2d_13 (Conv2D)           (None, 28, 28, 32)        320       \n",
      "_________________________________________________________________\n",
      "conv2d_14 (Conv2D)           (None, 14, 14, 64)        18496     \n",
      "_________________________________________________________________\n",
      "conv2d_15 (Conv2D)           (None, 7, 7, 128)         73856     \n",
      "_________________________________________________________________\n",
      "flatten_4 (Flatten)          (None, 6272)              0         \n",
      "_________________________________________________________________\n",
      "dense_8 (Dense)              (None, 128)               802944    \n",
      "_________________________________________________________________\n",
      "dense_9 (Dense)              (None, 10)                1290      \n",
      "=================================================================\n",
      "Total params: 896,906\n",
      "Trainable params: 896,906\n",
      "Non-trainable params: 0\n",
      "_________________________________________________________________\n"
     ]
    }
   ],
   "source": [
    "model_basic = Model(inputs=input_images, outputs=model_without_pretrained)\n",
    "model_basic.summary()"
   ]
  },
  {
   "cell_type": "code",
   "execution_count": 42,
   "metadata": {},
   "outputs": [],
   "source": [
    "# compile the model with adam optimizer and sparse_categorical_crossentropy loss function\n",
    "model_basic.compile(optimizer='adam', loss='sparse_categorical_crossentropy', metrics=['sparse_categorical_accuracy'])"
   ]
  },
  {
   "cell_type": "code",
   "execution_count": 44,
   "metadata": {},
   "outputs": [
    {
     "name": "stdout",
     "output_type": "stream",
     "text": [
      "Epoch 1/10\n",
      "1000/1000 [==============================] - 1s 992us/sample - loss: 0.0113 - sparse_categorical_accuracy: 0.9980\n",
      "Epoch 2/10\n",
      "1000/1000 [==============================] - 1s 1ms/sample - loss: 0.0048 - sparse_categorical_accuracy: 1.0000\n",
      "Epoch 3/10\n",
      "1000/1000 [==============================] - 1s 1ms/sample - loss: 0.0021 - sparse_categorical_accuracy: 1.0000\n",
      "Epoch 4/10\n",
      "1000/1000 [==============================] - 1s 1ms/sample - loss: 0.0012 - sparse_categorical_accuracy: 1.0000\n",
      "Epoch 5/10\n",
      "1000/1000 [==============================] - 1s 1ms/sample - loss: 7.2854e-04 - sparse_categorical_accuracy: 1.0000\n",
      "Epoch 6/10\n",
      "1000/1000 [==============================] - 1s 1ms/sample - loss: 5.8663e-04 - sparse_categorical_accuracy: 1.0000\n",
      "Epoch 7/10\n",
      "1000/1000 [==============================] - 1s 1ms/sample - loss: 4.5476e-04 - sparse_categorical_accuracy: 1.0000\n",
      "Epoch 8/10\n",
      "1000/1000 [==============================] - 1s 1ms/sample - loss: 3.7774e-04 - sparse_categorical_accuracy: 1.0000\n",
      "Epoch 9/10\n",
      "1000/1000 [==============================] - 1s 1ms/sample - loss: 3.2419e-04 - sparse_categorical_accuracy: 1.0000\n",
      "Epoch 10/10\n",
      "1000/1000 [==============================] - 1s 1ms/sample - loss: 2.8823e-04 - sparse_categorical_accuracy: 1.0000\n"
     ]
    }
   ],
   "source": [
    "history = model_basic.fit(X_train, y_train, batch_size=100, epochs=10, verbose=1)"
   ]
  },
  {
   "cell_type": "code",
   "execution_count": null,
   "metadata": {},
   "outputs": [],
   "source": [
    "score = model_basic.evaluate(x_test,y_test, verbose=1)"
   ]
  }
 ],
 "metadata": {
  "kernelspec": {
   "display_name": "Python 3",
   "language": "python",
   "name": "python3"
  },
  "language_info": {
   "codemirror_mode": {
    "name": "ipython",
    "version": 3
   },
   "file_extension": ".py",
   "mimetype": "text/x-python",
   "name": "python",
   "nbconvert_exporter": "python",
   "pygments_lexer": "ipython3",
   "version": "3.7.3"
  }
 },
 "nbformat": 4,
 "nbformat_minor": 2
}
