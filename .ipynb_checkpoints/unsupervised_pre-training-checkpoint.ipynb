{
 "cells": [
  {
   "cell_type": "code",
   "execution_count": 1,
   "metadata": {},
   "outputs": [],
   "source": [
    "import tensorflow as tf\n",
    "import numpy as np\n",
    "import sys\n",
    "from datetime import datetime\n",
    "from functools import partial\n",
    "from utils import *\n",
    "\n",
    "%matplotlib inline\n",
    "import matplotlib\n",
    "import matplotlib.pyplot as plt\n",
    "\n",
    "MODEL_PATH = \"models/autoencoder/\""
   ]
  },
  {
   "cell_type": "code",
   "execution_count": 20,
   "metadata": {},
   "outputs": [],
   "source": [
    "from tensorflow.keras.layers import Input, Dense, Conv2D, MaxPooling2D, UpSampling2D\n",
    "from tensorflow.keras.models import Model\n",
    "from tensorflow.keras import backend as K\n",
    "\n",
    "input_img = Input(shape=(28, 28, 1))\n",
    "\n",
    "x = Conv2D(16, (3, 3), activation='relu', padding='same')(input_img)\n",
    "x = MaxPooling2D((2, 2), padding='same')(x)\n",
    "x = Conv2D(8, (3, 3), activation='relu', padding='same')(x)\n",
    "x = MaxPooling2D((2, 2), padding='same')(x)\n",
    "x = Conv2D(8, (3, 3), activation='relu', padding='same')(x)\n",
    "encoded = MaxPooling2D((2, 2), padding='same')(x)\n",
    "\n",
    "x = Conv2D(8, (3, 3), activation='relu', padding='same')(encoded)\n",
    "x = UpSampling2D((2, 2))(x)\n",
    "x = Conv2D(8, (3, 3), activation='relu', padding='same')(x)\n",
    "x = UpSampling2D((2, 2))(x)\n",
    "x = Conv2D(16, (3, 3), activation='relu')(x)\n",
    "x = UpSampling2D((2, 2))(x)\n",
    "decoded = Conv2D(1, (3, 3), activation='sigmoid', padding='same')(x)\n",
    "\n",
    "autoencoder = Model(input_img, decoded)\n",
    "autoencoder.compile(optimizer='adadelta', loss='binary_crossentropy')"
   ]
  },
  {
   "cell_type": "code",
   "execution_count": 22,
   "metadata": {},
   "outputs": [],
   "source": [
    "from tensorflow.keras.datasets import mnist\n",
    "import numpy as np\n",
    "\n",
    "(x_train, _), (x_test, _) = mnist.load_data()\n",
    "\n",
    "x_train = x_train.astype('float32') / 255.\n",
    "x_test = x_test.astype('float32') / 255.\n",
    "x_train = np.reshape(x_train, (len(x_train), 28, 28, 1))  # adapt this if using `channels_first` image data format\n",
    "x_test = np.reshape(x_test, (len(x_test), 28, 28, 1))  # adapt this if using `channels_first` image data format"
   ]
  },
  {
   "cell_type": "code",
   "execution_count": 24,
   "metadata": {},
   "outputs": [
    {
     "name": "stdout",
     "output_type": "stream",
     "text": [
      "Train on 60000 samples, validate on 10000 samples\n",
      "Epoch 1/50\n",
      "60000/60000 [==============================] - 91s 2ms/sample - loss: 0.6979 - val_loss: 0.6964\n",
      "Epoch 2/50\n",
      "60000/60000 [==============================] - 98s 2ms/sample - loss: 0.6948 - val_loss: 0.6932\n",
      "Epoch 3/50\n",
      "60000/60000 [==============================] - 114s 2ms/sample - loss: 0.6916 - val_loss: 0.6900\n",
      "Epoch 4/50\n",
      "60000/60000 [==============================] - 112s 2ms/sample - loss: 0.6882 - val_loss: 0.6864\n",
      "Epoch 5/50\n",
      "60000/60000 [==============================] - 99s 2ms/sample - loss: 0.6841 - val_loss: 0.6816\n",
      "Epoch 6/50\n",
      "60000/60000 [==============================] - 109s 2ms/sample - loss: 0.6777 - val_loss: 0.6729\n",
      "Epoch 7/50\n",
      "60000/60000 [==============================] - 112s 2ms/sample - loss: 0.6633 - val_loss: 0.6496\n",
      "Epoch 8/50\n",
      "60000/60000 [==============================] - 111s 2ms/sample - loss: 0.6149 - val_loss: 0.5619\n",
      "Epoch 9/50\n",
      "60000/60000 [==============================] - 111s 2ms/sample - loss: 0.4992 - val_loss: 0.4695\n",
      "Epoch 10/50\n",
      "60000/60000 [==============================] - 109s 2ms/sample - loss: 0.4595 - val_loss: 0.4572\n",
      "Epoch 11/50\n",
      "60000/60000 [==============================] - 107s 2ms/sample - loss: 0.4479 - val_loss: 0.4454\n",
      "Epoch 12/50\n",
      "60000/60000 [==============================] - 109s 2ms/sample - loss: 0.4359 - val_loss: 0.4331\n",
      "Epoch 13/50\n",
      "60000/60000 [==============================] - 108s 2ms/sample - loss: 0.4235 - val_loss: 0.4205\n",
      "Epoch 14/50\n",
      "60000/60000 [==============================] - 108s 2ms/sample - loss: 0.4106 - val_loss: 0.4070\n",
      "Epoch 15/50\n",
      "60000/60000 [==============================] - 109s 2ms/sample - loss: 0.3967 - val_loss: 0.3922\n",
      "Epoch 16/50\n",
      "60000/60000 [==============================] - 113s 2ms/sample - loss: 0.3819 - val_loss: 0.3777\n",
      "Epoch 17/50\n",
      "60000/60000 [==============================] - 112s 2ms/sample - loss: 0.3682 - val_loss: 0.3642\n",
      "Epoch 18/50\n",
      "60000/60000 [==============================] - 112s 2ms/sample - loss: 0.3547 - val_loss: 0.3507\n",
      "Epoch 19/50\n",
      "60000/60000 [==============================] - 112s 2ms/sample - loss: 0.3420 - val_loss: 0.3389\n",
      "Epoch 20/50\n",
      "60000/60000 [==============================] - 114s 2ms/sample - loss: 0.3314 - val_loss: 0.3290\n",
      "Epoch 21/50\n",
      "60000/60000 [==============================] - 113s 2ms/sample - loss: 0.3221 - val_loss: 0.3201\n",
      "Epoch 22/50\n",
      "60000/60000 [==============================] - 113s 2ms/sample - loss: 0.3136 - val_loss: 0.3118\n",
      "Epoch 23/50\n",
      "60000/60000 [==============================] - 109s 2ms/sample - loss: 0.3056 - val_loss: 0.3038\n",
      "Epoch 24/50\n",
      "60000/60000 [==============================] - 108s 2ms/sample - loss: 0.2978 - val_loss: 0.2958\n",
      "Epoch 25/50\n",
      "60000/60000 [==============================] - 108s 2ms/sample - loss: 0.2900 - val_loss: 0.2879\n",
      "Epoch 26/50\n",
      "60000/60000 [==============================] - 108s 2ms/sample - loss: 0.2823 - val_loss: 0.2801\n",
      "Epoch 27/50\n",
      "60000/60000 [==============================] - 108s 2ms/sample - loss: 0.2748 - val_loss: 0.2727\n",
      "Epoch 28/50\n",
      "60000/60000 [==============================] - 110s 2ms/sample - loss: 0.2678 - val_loss: 0.2660\n",
      "Epoch 29/50\n",
      "60000/60000 [==============================] - 110s 2ms/sample - loss: 0.2617 - val_loss: 0.2603\n",
      "Epoch 30/50\n",
      "60000/60000 [==============================] - 109s 2ms/sample - loss: 0.2567 - val_loss: 0.2556\n",
      "Epoch 31/50\n",
      "60000/60000 [==============================] - 109s 2ms/sample - loss: 0.2525 - val_loss: 0.2518\n",
      "Epoch 32/50\n",
      "60000/60000 [==============================] - 109s 2ms/sample - loss: 0.2491 - val_loss: 0.2486\n",
      "Epoch 33/50\n",
      "60000/60000 [==============================] - 110s 2ms/sample - loss: 0.2463 - val_loss: 0.2460\n",
      "Epoch 34/50\n",
      "60000/60000 [==============================] - 109s 2ms/sample - loss: 0.2440 - val_loss: 0.2438\n",
      "Epoch 35/50\n",
      "60000/60000 [==============================] - 110s 2ms/sample - loss: 0.2419 - val_loss: 0.2418\n",
      "Epoch 36/50\n",
      "60000/60000 [==============================] - 110s 2ms/sample - loss: 0.2401 - val_loss: 0.2401\n",
      "Epoch 37/50\n",
      "60000/60000 [==============================] - 112s 2ms/sample - loss: 0.2384 - val_loss: 0.2385\n",
      "Epoch 38/50\n",
      "60000/60000 [==============================] - 110s 2ms/sample - loss: 0.2369 - val_loss: 0.2370\n",
      "Epoch 39/50\n",
      "60000/60000 [==============================] - 110s 2ms/sample - loss: 0.2355 - val_loss: 0.2356\n",
      "Epoch 40/50\n",
      "60000/60000 [==============================] - 110s 2ms/sample - loss: 0.2342 - val_loss: 0.2343\n",
      "Epoch 41/50\n",
      "60000/60000 [==============================] - 110s 2ms/sample - loss: 0.2330 - val_loss: 0.2331\n",
      "Epoch 42/50\n",
      "60000/60000 [==============================] - 110s 2ms/sample - loss: 0.2319 - val_loss: 0.2320\n",
      "Epoch 43/50\n",
      "60000/60000 [==============================] - 110s 2ms/sample - loss: 0.2308 - val_loss: 0.2309\n",
      "Epoch 44/50\n",
      "60000/60000 [==============================] - 111s 2ms/sample - loss: 0.2298 - val_loss: 0.2299\n",
      "Epoch 45/50\n",
      "60000/60000 [==============================] - 112s 2ms/sample - loss: 0.2288 - val_loss: 0.2290\n",
      "Epoch 46/50\n",
      "60000/60000 [==============================] - 111s 2ms/sample - loss: 0.2279 - val_loss: 0.2281\n",
      "Epoch 47/50\n",
      "60000/60000 [==============================] - 111s 2ms/sample - loss: 0.2271 - val_loss: 0.2272\n",
      "Epoch 48/50\n",
      "60000/60000 [==============================] - 111s 2ms/sample - loss: 0.2263 - val_loss: 0.2264\n",
      "Epoch 49/50\n",
      "60000/60000 [==============================] - 112s 2ms/sample - loss: 0.2255 - val_loss: 0.2256\n",
      "Epoch 50/50\n",
      "60000/60000 [==============================] - 112s 2ms/sample - loss: 0.2247 - val_loss: 0.2248\n"
     ]
    },
    {
     "data": {
      "text/plain": [
       "<tensorflow.python.keras.callbacks.History at 0x246e7331da0>"
      ]
     },
     "execution_count": 24,
     "metadata": {},
     "output_type": "execute_result"
    }
   ],
   "source": [
    "from tensorflow.keras.callbacks import TensorBoard\n",
    "\n",
    "autoencoder.fit(x_train, x_train,\n",
    "                epochs=50,\n",
    "                batch_size=128,\n",
    "                shuffle=True,\n",
    "                validation_data=(x_test, x_test))"
   ]
  },
  {
   "cell_type": "code",
   "execution_count": 28,
   "metadata": {},
   "outputs": [],
   "source": [
    "# saving model\n",
    "autoencoder.save(MODEL_PATH + 'autoencoder.h5')"
   ]
  },
  {
   "cell_type": "code",
   "execution_count": 26,
   "metadata": {},
   "outputs": [
    {
     "data": {
      "image/png": "[encoded data removed]",
      "text/plain": [
       "<Figure size 1440x288 with 18 Axes>"
      ]
     },
     "metadata": {
      "needs_background": "light"
     },
     "output_type": "display_data"
    }
   ],
   "source": [
    "decoded_imgs = autoencoder.predict(x_test[:10])\n",
    "\n",
    "n = 10\n",
    "plt.figure(figsize=(20, 4))\n",
    "for i in range(1,n):\n",
    "    # display original\n",
    "    ax = plt.subplot(2, n, i)\n",
    "    plt.imshow(x_test[i].reshape(28, 28))\n",
    "    plt.gray()\n",
    "    ax.get_xaxis().set_visible(False)\n",
    "    ax.get_yaxis().set_visible(False)\n",
    "\n",
    "    # display reconstruction\n",
    "    ax = plt.subplot(2, n, i + n)\n",
    "    plt.imshow(decoded_imgs[i].reshape(28, 28))\n",
    "    plt.gray()\n",
    "    ax.get_xaxis().set_visible(False)\n",
    "    ax.get_yaxis().set_visible(False)\n",
    "plt.show()"
   ]
  },
  {
   "cell_type": "code",
   "execution_count": null,
   "metadata": {},
   "outputs": [],
   "source": []
  },
  {
   "cell_type": "markdown",
   "metadata": {},
   "source": [
    "### Restore model used for unsupervised pre-training"
   ]
  },
  {
   "cell_type": "code",
   "execution_count": 30,
   "metadata": {},
   "outputs": [
    {
     "name": "stdout",
     "output_type": "stream",
     "text": [
      "Model: \"model_1\"\n",
      "_________________________________________________________________\n",
      "Layer (type)                 Output Shape              Param #   \n",
      "=================================================================\n",
      "input_2 (InputLayer)         [(None, 28, 28, 1)]       0         \n",
      "_________________________________________________________________\n",
      "conv2d_7 (Conv2D)            (None, 28, 28, 16)        160       \n",
      "_________________________________________________________________\n",
      "max_pooling2d_3 (MaxPooling2 (None, 14, 14, 16)        0         \n",
      "_________________________________________________________________\n",
      "conv2d_8 (Conv2D)            (None, 14, 14, 8)         1160      \n",
      "_________________________________________________________________\n",
      "max_pooling2d_4 (MaxPooling2 (None, 7, 7, 8)           0         \n",
      "_________________________________________________________________\n",
      "conv2d_9 (Conv2D)            (None, 7, 7, 8)           584       \n",
      "_________________________________________________________________\n",
      "max_pooling2d_5 (MaxPooling2 (None, 4, 4, 8)           0         \n",
      "_________________________________________________________________\n",
      "conv2d_10 (Conv2D)           (None, 4, 4, 8)           584       \n",
      "_________________________________________________________________\n",
      "up_sampling2d_3 (UpSampling2 (None, 8, 8, 8)           0         \n",
      "_________________________________________________________________\n",
      "conv2d_11 (Conv2D)           (None, 8, 8, 8)           584       \n",
      "_________________________________________________________________\n",
      "up_sampling2d_4 (UpSampling2 (None, 16, 16, 8)         0         \n",
      "_________________________________________________________________\n",
      "conv2d_12 (Conv2D)           (None, 14, 14, 16)        1168      \n",
      "_________________________________________________________________\n",
      "up_sampling2d_5 (UpSampling2 (None, 28, 28, 16)        0         \n",
      "_________________________________________________________________\n",
      "conv2d_13 (Conv2D)           (None, 28, 28, 1)         145       \n",
      "=================================================================\n",
      "Total params: 4,385\n",
      "Trainable params: 4,385\n",
      "Non-trainable params: 0\n",
      "_________________________________________________________________\n"
     ]
    }
   ],
   "source": [
    "pretrained_autoencoder = keras.models.load_model(MODEL_PATH + 'autoencoder.h5')\n",
    "pretrained_autoencoder.summary()"
   ]
  },
  {
   "cell_type": "markdown",
   "metadata": {},
   "source": [
    "### adding layers at the end of the pretrained model"
   ]
  },
  {
   "cell_type": "code",
   "execution_count": null,
   "metadata": {},
   "outputs": [],
   "source": [
    "from tensorflow.keras.models import Model\n",
    "from tensorflow.keras.layers import Dense"
   ]
  },
  {
   "cell_type": "code",
   "execution_count": null,
   "metadata": {},
   "outputs": [],
   "source": [
    "x = model_pretrained.output\n",
    "# Adding a fully connected layers\n",
    "x = Dense(1024, activation='relu')(x)\n",
    "x = Dense(200, activation='relu')(x)\n",
    "# Adding a fully connected layer for the 10 classes 0 to 9\n",
    "predictions = Dense(10, activation='softmax')(x)"
   ]
  },
  {
   "cell_type": "markdown",
   "metadata": {},
   "source": [
    "### freezing model"
   ]
  },
  {
   "cell_type": "code",
   "execution_count": null,
   "metadata": {},
   "outputs": [],
   "source": [
    "model = Model(inputs=model_pretrained.input, outputs=predictions)\n",
    "\n",
    "# freeze all layers of the pre-trained model\n",
    "# we will only train the Dense layers added in \"model\"\n",
    "for layer in model_pretrained.layers:\n",
    "    layer.trainable = False\n",
    "\n",
    "# compile the model with adam optimizer and sparse_categorical_crossentropy loss function\n",
    "model.compile(optimizer='adam', loss='sparse_categorical_crossentropy', metrics=['sparse_categorical_accuracy'])"
   ]
  }
 ],
 "metadata": {
  "kernelspec": {
   "display_name": "Python 3",
   "language": "python",
   "name": "python3"
  },
  "language_info": {
   "codemirror_mode": {
    "name": "ipython",
    "version": 3
   },
   "file_extension": ".py",
   "mimetype": "text/x-python",
   "name": "python",
   "nbconvert_exporter": "python",
   "pygments_lexer": "ipython3",
   "version": "3.7.3"
  }
 },
 "nbformat": 4,
 "nbformat_minor": 2
}
